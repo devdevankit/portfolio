{
 "cells": [
  {
   "cell_type": "markdown",
   "metadata": {},
   "source": [
    "# Exploratory Data Analysis And Severity Prediction Of Car Accidents In USA\n",
    "\n",
    "US-Accident dataset is a countrywide car accident dataset with around 3 million records, which covers 49 states of the United States.\n",
    "\n",
    "\n",
    "#### Objective:\n",
    "The main objective of this project is to identify and analyze the key factors affecting the severity of accident and to develop a model that can accurately precit an accident severity."
   ]
  },
  {
   "cell_type": "code",
   "execution_count": 1,
   "metadata": {},
   "outputs": [],
   "source": [
    "import numpy as np \n",
    "import pandas as pd \n",
    "\n",
    "import matplotlib\n",
    "import matplotlib.pyplot as plt\n",
    "from matplotlib import cm\n",
    "import seaborn as sns\n",
    "#plt.ticklabel_format(style='plain', axis='y')\n",
    "\n",
    "from scipy import stats\n",
    "\n",
    "from sklearn.utils import resample\n",
    "from sklearn.model_selection import train_test_split\n",
    "from sklearn.model_selection import GridSearchCV\n",
    "from sklearn.feature_selection import SelectFromModel\n",
    "from sklearn.metrics import classification_report, confusion_matrix, accuracy_score, roc_curve, auc\n",
    "from sklearn.preprocessing import OrdinalEncoder, StandardScaler\n",
    "\n",
    "# import for model building\n",
    "from sklearn.svm import SVC\n",
    "from sklearn.tree import DecisionTreeClassifier\n",
    "from sklearn.ensemble import RandomForestClassifier\n",
    "from sklearn.neighbors import KNeighborsClassifier\n",
    "\n",
    "from xgboost import XGBClassifier"
   ]
  },
  {
   "cell_type": "code",
   "execution_count": 2,
   "metadata": {},
   "outputs": [],
   "source": [
    "pd.pandas.set_option(\"display.max_columns\",None)"
   ]
  },
  {
   "cell_type": "code",
   "execution_count": 3,
   "metadata": {},
   "outputs": [],
   "source": [
    "df = pd.read_csv('US_Accidents_Dec20_Updated.csv')"
   ]
  },
  {
   "cell_type": "code",
   "execution_count": 4,
   "metadata": {},
   "outputs": [
    {
     "data": {
      "text/plain": [
       "(2906610, 47)"
      ]
     },
     "execution_count": 4,
     "metadata": {},
     "output_type": "execute_result"
    }
   ],
   "source": [
    "df.shape"
   ]
  },
  {
   "cell_type": "code",
   "execution_count": 5,
   "metadata": {},
   "outputs": [
    {
     "data": {
      "text/html": [
       "<div>\n",
       "<style scoped>\n",
       "    .dataframe tbody tr th:only-of-type {\n",
       "        vertical-align: middle;\n",
       "    }\n",
       "\n",
       "    .dataframe tbody tr th {\n",
       "        vertical-align: top;\n",
       "    }\n",
       "\n",
       "    .dataframe thead th {\n",
       "        text-align: right;\n",
       "    }\n",
       "</style>\n",
       "<table border=\"1\" class=\"dataframe\">\n",
       "  <thead>\n",
       "    <tr style=\"text-align: right;\">\n",
       "      <th></th>\n",
       "      <th>ID</th>\n",
       "      <th>Severity</th>\n",
       "      <th>Start_Time</th>\n",
       "      <th>End_Time</th>\n",
       "      <th>Start_Lat</th>\n",
       "      <th>Start_Lng</th>\n",
       "      <th>End_Lat</th>\n",
       "      <th>End_Lng</th>\n",
       "      <th>Distance(mi)</th>\n",
       "      <th>Description</th>\n",
       "      <th>Number</th>\n",
       "      <th>Street</th>\n",
       "      <th>Side</th>\n",
       "      <th>City</th>\n",
       "      <th>County</th>\n",
       "      <th>State</th>\n",
       "      <th>Zipcode</th>\n",
       "      <th>Country</th>\n",
       "      <th>Timezone</th>\n",
       "      <th>Airport_Code</th>\n",
       "      <th>Weather_Timestamp</th>\n",
       "      <th>Temperature(F)</th>\n",
       "      <th>Wind_Chill(F)</th>\n",
       "      <th>Humidity(%)</th>\n",
       "      <th>Pressure(in)</th>\n",
       "      <th>Visibility(mi)</th>\n",
       "      <th>Wind_Direction</th>\n",
       "      <th>Wind_Speed(mph)</th>\n",
       "      <th>Precipitation(in)</th>\n",
       "      <th>Weather_Condition</th>\n",
       "      <th>Amenity</th>\n",
       "      <th>Bump</th>\n",
       "      <th>Crossing</th>\n",
       "      <th>Give_Way</th>\n",
       "      <th>Junction</th>\n",
       "      <th>No_Exit</th>\n",
       "      <th>Railway</th>\n",
       "      <th>Roundabout</th>\n",
       "      <th>Station</th>\n",
       "      <th>Stop</th>\n",
       "      <th>Traffic_Calming</th>\n",
       "      <th>Traffic_Signal</th>\n",
       "      <th>Turning_Loop</th>\n",
       "      <th>Sunrise_Sunset</th>\n",
       "      <th>Civil_Twilight</th>\n",
       "      <th>Nautical_Twilight</th>\n",
       "      <th>Astronomical_Twilight</th>\n",
       "    </tr>\n",
       "  </thead>\n",
       "  <tbody>\n",
       "    <tr>\n",
       "      <th>0</th>\n",
       "      <td>A-1</td>\n",
       "      <td>2</td>\n",
       "      <td>2019-05-21 08:29:55</td>\n",
       "      <td>2019-05-21 09:29:40</td>\n",
       "      <td>34.808868</td>\n",
       "      <td>-82.269157</td>\n",
       "      <td>34.808868</td>\n",
       "      <td>-82.269157</td>\n",
       "      <td>0.0</td>\n",
       "      <td>Accident on Tanner Rd at Pennbrooke Ln.</td>\n",
       "      <td>439.0</td>\n",
       "      <td>Tanner Rd</td>\n",
       "      <td>R</td>\n",
       "      <td>Greenville</td>\n",
       "      <td>Greenville</td>\n",
       "      <td>SC</td>\n",
       "      <td>29607-6027</td>\n",
       "      <td>US</td>\n",
       "      <td>US/Eastern</td>\n",
       "      <td>KGMU</td>\n",
       "      <td>2019-05-21 08:53:00</td>\n",
       "      <td>76.0</td>\n",
       "      <td>76.0</td>\n",
       "      <td>52.0</td>\n",
       "      <td>28.91</td>\n",
       "      <td>10.0</td>\n",
       "      <td>N</td>\n",
       "      <td>7.0</td>\n",
       "      <td>0.0</td>\n",
       "      <td>Fair</td>\n",
       "      <td>False</td>\n",
       "      <td>False</td>\n",
       "      <td>False</td>\n",
       "      <td>False</td>\n",
       "      <td>False</td>\n",
       "      <td>False</td>\n",
       "      <td>False</td>\n",
       "      <td>False</td>\n",
       "      <td>False</td>\n",
       "      <td>False</td>\n",
       "      <td>False</td>\n",
       "      <td>False</td>\n",
       "      <td>False</td>\n",
       "      <td>Day</td>\n",
       "      <td>Day</td>\n",
       "      <td>Day</td>\n",
       "      <td>Day</td>\n",
       "    </tr>\n",
       "    <tr>\n",
       "      <th>1</th>\n",
       "      <td>A-2</td>\n",
       "      <td>2</td>\n",
       "      <td>2019-10-07 17:43:09</td>\n",
       "      <td>2019-10-07 19:42:50</td>\n",
       "      <td>35.090080</td>\n",
       "      <td>-80.745560</td>\n",
       "      <td>35.090080</td>\n",
       "      <td>-80.745560</td>\n",
       "      <td>0.0</td>\n",
       "      <td>Accident on Houston Branch Rd at Providence Br...</td>\n",
       "      <td>3299.0</td>\n",
       "      <td>Providence Branch Ln</td>\n",
       "      <td>R</td>\n",
       "      <td>Charlotte</td>\n",
       "      <td>Mecklenburg</td>\n",
       "      <td>NC</td>\n",
       "      <td>28270-8560</td>\n",
       "      <td>US</td>\n",
       "      <td>US/Eastern</td>\n",
       "      <td>KEQY</td>\n",
       "      <td>2019-10-07 17:53:00</td>\n",
       "      <td>76.0</td>\n",
       "      <td>76.0</td>\n",
       "      <td>62.0</td>\n",
       "      <td>29.30</td>\n",
       "      <td>10.0</td>\n",
       "      <td>VAR</td>\n",
       "      <td>3.0</td>\n",
       "      <td>0.0</td>\n",
       "      <td>Cloudy</td>\n",
       "      <td>False</td>\n",
       "      <td>False</td>\n",
       "      <td>False</td>\n",
       "      <td>False</td>\n",
       "      <td>False</td>\n",
       "      <td>False</td>\n",
       "      <td>False</td>\n",
       "      <td>False</td>\n",
       "      <td>False</td>\n",
       "      <td>False</td>\n",
       "      <td>False</td>\n",
       "      <td>False</td>\n",
       "      <td>False</td>\n",
       "      <td>Day</td>\n",
       "      <td>Day</td>\n",
       "      <td>Day</td>\n",
       "      <td>Day</td>\n",
       "    </tr>\n",
       "    <tr>\n",
       "      <th>2</th>\n",
       "      <td>A-3</td>\n",
       "      <td>2</td>\n",
       "      <td>2020-12-13 21:53:00</td>\n",
       "      <td>2020-12-13 22:44:00</td>\n",
       "      <td>37.145730</td>\n",
       "      <td>-121.985052</td>\n",
       "      <td>37.165850</td>\n",
       "      <td>-121.988062</td>\n",
       "      <td>1.4</td>\n",
       "      <td>Stationary traffic on CA-17 from Summit Rd (CA...</td>\n",
       "      <td>NaN</td>\n",
       "      <td>Santa Cruz Hwy</td>\n",
       "      <td>R</td>\n",
       "      <td>Los Gatos</td>\n",
       "      <td>Santa Clara</td>\n",
       "      <td>CA</td>\n",
       "      <td>95033</td>\n",
       "      <td>US</td>\n",
       "      <td>US/Pacific</td>\n",
       "      <td>KSJC</td>\n",
       "      <td>2020-12-13 21:53:00</td>\n",
       "      <td>51.0</td>\n",
       "      <td>51.0</td>\n",
       "      <td>80.0</td>\n",
       "      <td>30.17</td>\n",
       "      <td>10.0</td>\n",
       "      <td>W</td>\n",
       "      <td>6.0</td>\n",
       "      <td>0.0</td>\n",
       "      <td>Fair</td>\n",
       "      <td>False</td>\n",
       "      <td>False</td>\n",
       "      <td>False</td>\n",
       "      <td>False</td>\n",
       "      <td>False</td>\n",
       "      <td>False</td>\n",
       "      <td>False</td>\n",
       "      <td>False</td>\n",
       "      <td>False</td>\n",
       "      <td>False</td>\n",
       "      <td>False</td>\n",
       "      <td>False</td>\n",
       "      <td>False</td>\n",
       "      <td>Night</td>\n",
       "      <td>Night</td>\n",
       "      <td>Night</td>\n",
       "      <td>Night</td>\n",
       "    </tr>\n",
       "    <tr>\n",
       "      <th>3</th>\n",
       "      <td>A-4</td>\n",
       "      <td>2</td>\n",
       "      <td>2018-04-17 16:51:23</td>\n",
       "      <td>2018-04-17 17:50:46</td>\n",
       "      <td>39.110390</td>\n",
       "      <td>-119.773781</td>\n",
       "      <td>39.110390</td>\n",
       "      <td>-119.773781</td>\n",
       "      <td>0.0</td>\n",
       "      <td>Accident on US-395 Southbound at Topsy Ln.</td>\n",
       "      <td>NaN</td>\n",
       "      <td>US Highway 395 S</td>\n",
       "      <td>R</td>\n",
       "      <td>Carson City</td>\n",
       "      <td>Douglas</td>\n",
       "      <td>NV</td>\n",
       "      <td>89705</td>\n",
       "      <td>US</td>\n",
       "      <td>US/Pacific</td>\n",
       "      <td>KCXP</td>\n",
       "      <td>2018-04-17 16:55:00</td>\n",
       "      <td>53.6</td>\n",
       "      <td>NaN</td>\n",
       "      <td>16.0</td>\n",
       "      <td>30.16</td>\n",
       "      <td>10.0</td>\n",
       "      <td>SSW</td>\n",
       "      <td>4.6</td>\n",
       "      <td>NaN</td>\n",
       "      <td>Clear</td>\n",
       "      <td>False</td>\n",
       "      <td>False</td>\n",
       "      <td>False</td>\n",
       "      <td>False</td>\n",
       "      <td>False</td>\n",
       "      <td>False</td>\n",
       "      <td>False</td>\n",
       "      <td>False</td>\n",
       "      <td>False</td>\n",
       "      <td>False</td>\n",
       "      <td>False</td>\n",
       "      <td>True</td>\n",
       "      <td>False</td>\n",
       "      <td>Day</td>\n",
       "      <td>Day</td>\n",
       "      <td>Day</td>\n",
       "      <td>Day</td>\n",
       "    </tr>\n",
       "    <tr>\n",
       "      <th>4</th>\n",
       "      <td>A-5</td>\n",
       "      <td>3</td>\n",
       "      <td>2016-08-31 17:40:49</td>\n",
       "      <td>2016-08-31 18:10:49</td>\n",
       "      <td>26.102942</td>\n",
       "      <td>-80.265091</td>\n",
       "      <td>26.102942</td>\n",
       "      <td>-80.265091</td>\n",
       "      <td>0.0</td>\n",
       "      <td>Accident on I-595 Westbound at Exit 4 / Pine I...</td>\n",
       "      <td>NaN</td>\n",
       "      <td>I-595 W</td>\n",
       "      <td>R</td>\n",
       "      <td>Fort Lauderdale</td>\n",
       "      <td>Broward</td>\n",
       "      <td>FL</td>\n",
       "      <td>33324</td>\n",
       "      <td>US</td>\n",
       "      <td>US/Eastern</td>\n",
       "      <td>KHWO</td>\n",
       "      <td>2016-08-31 17:53:00</td>\n",
       "      <td>84.2</td>\n",
       "      <td>NaN</td>\n",
       "      <td>84.0</td>\n",
       "      <td>29.92</td>\n",
       "      <td>10.0</td>\n",
       "      <td>SSE</td>\n",
       "      <td>13.8</td>\n",
       "      <td>NaN</td>\n",
       "      <td>Overcast</td>\n",
       "      <td>False</td>\n",
       "      <td>False</td>\n",
       "      <td>False</td>\n",
       "      <td>False</td>\n",
       "      <td>True</td>\n",
       "      <td>False</td>\n",
       "      <td>False</td>\n",
       "      <td>False</td>\n",
       "      <td>False</td>\n",
       "      <td>False</td>\n",
       "      <td>False</td>\n",
       "      <td>True</td>\n",
       "      <td>False</td>\n",
       "      <td>Day</td>\n",
       "      <td>Day</td>\n",
       "      <td>Day</td>\n",
       "      <td>Day</td>\n",
       "    </tr>\n",
       "  </tbody>\n",
       "</table>\n",
       "</div>"
      ],
      "text/plain": [
       "    ID  Severity           Start_Time             End_Time  Start_Lat  \\\n",
       "0  A-1         2  2019-05-21 08:29:55  2019-05-21 09:29:40  34.808868   \n",
       "1  A-2         2  2019-10-07 17:43:09  2019-10-07 19:42:50  35.090080   \n",
       "2  A-3         2  2020-12-13 21:53:00  2020-12-13 22:44:00  37.145730   \n",
       "3  A-4         2  2018-04-17 16:51:23  2018-04-17 17:50:46  39.110390   \n",
       "4  A-5         3  2016-08-31 17:40:49  2016-08-31 18:10:49  26.102942   \n",
       "\n",
       "    Start_Lng    End_Lat     End_Lng  Distance(mi)  \\\n",
       "0  -82.269157  34.808868  -82.269157           0.0   \n",
       "1  -80.745560  35.090080  -80.745560           0.0   \n",
       "2 -121.985052  37.165850 -121.988062           1.4   \n",
       "3 -119.773781  39.110390 -119.773781           0.0   \n",
       "4  -80.265091  26.102942  -80.265091           0.0   \n",
       "\n",
       "                                         Description  Number  \\\n",
       "0            Accident on Tanner Rd at Pennbrooke Ln.   439.0   \n",
       "1  Accident on Houston Branch Rd at Providence Br...  3299.0   \n",
       "2  Stationary traffic on CA-17 from Summit Rd (CA...     NaN   \n",
       "3         Accident on US-395 Southbound at Topsy Ln.     NaN   \n",
       "4  Accident on I-595 Westbound at Exit 4 / Pine I...     NaN   \n",
       "\n",
       "                 Street Side             City       County State     Zipcode  \\\n",
       "0             Tanner Rd    R       Greenville   Greenville    SC  29607-6027   \n",
       "1  Providence Branch Ln    R        Charlotte  Mecklenburg    NC  28270-8560   \n",
       "2        Santa Cruz Hwy    R        Los Gatos  Santa Clara    CA       95033   \n",
       "3      US Highway 395 S    R      Carson City      Douglas    NV       89705   \n",
       "4               I-595 W    R  Fort Lauderdale      Broward    FL       33324   \n",
       "\n",
       "  Country    Timezone Airport_Code    Weather_Timestamp  Temperature(F)  \\\n",
       "0      US  US/Eastern         KGMU  2019-05-21 08:53:00            76.0   \n",
       "1      US  US/Eastern         KEQY  2019-10-07 17:53:00            76.0   \n",
       "2      US  US/Pacific         KSJC  2020-12-13 21:53:00            51.0   \n",
       "3      US  US/Pacific         KCXP  2018-04-17 16:55:00            53.6   \n",
       "4      US  US/Eastern         KHWO  2016-08-31 17:53:00            84.2   \n",
       "\n",
       "   Wind_Chill(F)  Humidity(%)  Pressure(in)  Visibility(mi) Wind_Direction  \\\n",
       "0           76.0         52.0         28.91            10.0              N   \n",
       "1           76.0         62.0         29.30            10.0            VAR   \n",
       "2           51.0         80.0         30.17            10.0              W   \n",
       "3            NaN         16.0         30.16            10.0            SSW   \n",
       "4            NaN         84.0         29.92            10.0            SSE   \n",
       "\n",
       "   Wind_Speed(mph)  Precipitation(in) Weather_Condition  Amenity   Bump  \\\n",
       "0              7.0                0.0              Fair    False  False   \n",
       "1              3.0                0.0            Cloudy    False  False   \n",
       "2              6.0                0.0              Fair    False  False   \n",
       "3              4.6                NaN             Clear    False  False   \n",
       "4             13.8                NaN          Overcast    False  False   \n",
       "\n",
       "   Crossing  Give_Way  Junction  No_Exit  Railway  Roundabout  Station   Stop  \\\n",
       "0     False     False     False    False    False       False    False  False   \n",
       "1     False     False     False    False    False       False    False  False   \n",
       "2     False     False     False    False    False       False    False  False   \n",
       "3     False     False     False    False    False       False    False  False   \n",
       "4     False     False      True    False    False       False    False  False   \n",
       "\n",
       "   Traffic_Calming  Traffic_Signal  Turning_Loop Sunrise_Sunset  \\\n",
       "0            False           False         False            Day   \n",
       "1            False           False         False            Day   \n",
       "2            False           False         False          Night   \n",
       "3            False            True         False            Day   \n",
       "4            False            True         False            Day   \n",
       "\n",
       "  Civil_Twilight Nautical_Twilight Astronomical_Twilight  \n",
       "0            Day               Day                   Day  \n",
       "1            Day               Day                   Day  \n",
       "2          Night             Night                 Night  \n",
       "3            Day               Day                   Day  \n",
       "4            Day               Day                   Day  "
      ]
     },
     "execution_count": 5,
     "metadata": {},
     "output_type": "execute_result"
    }
   ],
   "source": [
    "df.head()"
   ]
  },
  {
   "cell_type": "code",
   "execution_count": 6,
   "metadata": {},
   "outputs": [
    {
     "name": "stdout",
     "output_type": "stream",
     "text": [
      "<class 'pandas.core.frame.DataFrame'>\n",
      "RangeIndex: 2906610 entries, 0 to 2906609\n",
      "Data columns (total 47 columns):\n",
      " #   Column                 Dtype  \n",
      "---  ------                 -----  \n",
      " 0   ID                     object \n",
      " 1   Severity               int64  \n",
      " 2   Start_Time             object \n",
      " 3   End_Time               object \n",
      " 4   Start_Lat              float64\n",
      " 5   Start_Lng              float64\n",
      " 6   End_Lat                float64\n",
      " 7   End_Lng                float64\n",
      " 8   Distance(mi)           float64\n",
      " 9   Description            object \n",
      " 10  Number                 float64\n",
      " 11  Street                 object \n",
      " 12  Side                   object \n",
      " 13  City                   object \n",
      " 14  County                 object \n",
      " 15  State                  object \n",
      " 16  Zipcode                object \n",
      " 17  Country                object \n",
      " 18  Timezone               object \n",
      " 19  Airport_Code           object \n",
      " 20  Weather_Timestamp      object \n",
      " 21  Temperature(F)         float64\n",
      " 22  Wind_Chill(F)          float64\n",
      " 23  Humidity(%)            float64\n",
      " 24  Pressure(in)           float64\n",
      " 25  Visibility(mi)         float64\n",
      " 26  Wind_Direction         object \n",
      " 27  Wind_Speed(mph)        float64\n",
      " 28  Precipitation(in)      float64\n",
      " 29  Weather_Condition      object \n",
      " 30  Amenity                bool   \n",
      " 31  Bump                   bool   \n",
      " 32  Crossing               bool   \n",
      " 33  Give_Way               bool   \n",
      " 34  Junction               bool   \n",
      " 35  No_Exit                bool   \n",
      " 36  Railway                bool   \n",
      " 37  Roundabout             bool   \n",
      " 38  Station                bool   \n",
      " 39  Stop                   bool   \n",
      " 40  Traffic_Calming        bool   \n",
      " 41  Traffic_Signal         bool   \n",
      " 42  Turning_Loop           bool   \n",
      " 43  Sunrise_Sunset         object \n",
      " 44  Civil_Twilight         object \n",
      " 45  Nautical_Twilight      object \n",
      " 46  Astronomical_Twilight  object \n",
      "dtypes: bool(13), float64(13), int64(1), object(20)\n",
      "memory usage: 790.0+ MB\n"
     ]
    }
   ],
   "source": [
    "df.info()"
   ]
  },
  {
   "cell_type": "markdown",
   "metadata": {},
   "source": [
    "## Data Preprocessing & Handling Missing Data"
   ]
  },
  {
   "cell_type": "code",
   "execution_count": 7,
   "metadata": {},
   "outputs": [
    {
     "data": {
      "text/plain": [
       "Number                   0.650817\n",
       "Precipitation(in)        0.447713\n",
       "Wind_Chill(F)            0.407299\n",
       "Wind_Speed(mph)          0.105677\n",
       "End_Lat                  0.097303\n",
       "End_Lng                  0.097303\n",
       "Visibility(mi)           0.024798\n",
       "Weather_Condition        0.024720\n",
       "Humidity(%)              0.024520\n",
       "Temperature(F)           0.023128\n",
       "Wind_Direction           0.021838\n",
       "Pressure(in)             0.019579\n",
       "Weather_Timestamp        0.016141\n",
       "Airport_Code             0.002273\n",
       "Timezone                 0.001180\n",
       "Zipcode                  0.000383\n",
       "Nautical_Twilight        0.000038\n",
       "Astronomical_Twilight    0.000038\n",
       "Civil_Twilight           0.000038\n",
       "Sunrise_Sunset           0.000038\n",
       "City                     0.000037\n",
       "dtype: float64"
      ]
     },
     "execution_count": 7,
     "metadata": {},
     "output_type": "execute_result"
    }
   ],
   "source": [
    "total = df.isna().sum().sort_values(ascending=False)\n",
    "missing_data = total / len(df)\n",
    "missing_data = missing_data[missing_data>0]\n",
    "missing_data"
   ]
  },
  {
   "cell_type": "code",
   "execution_count": 8,
   "metadata": {},
   "outputs": [],
   "source": [
    "# Airport_Code             0.002273\n",
    "# Timezone                 0.001180\n",
    "# Zipcode                  0.000383\n",
    "# Nautical_Twilight        0.000038\n",
    "# Astronomical_Twilight    0.000038\n",
    "# Civil_Twilight           0.000038\n",
    "# Sunrise_Sunset           0.000038\n",
    "# City                     0.000037\n",
    "\n",
    "# Dropping NAN values in these columns as they are fairly low\n",
    "df = df.dropna(subset=['Airport_Code','Timezone','Zipcode','Nautical_Twilight','Astronomical_Twilight','Civil_Twilight','Sunrise_Sunset','City'])"
   ]
  },
  {
   "cell_type": "code",
   "execution_count": 9,
   "metadata": {},
   "outputs": [],
   "source": [
    "# Dropping columns that have no relation to an accident\n",
    "\n",
    "# ID: This is a unique identifier of the accident record.\n",
    "# End_Lat: Shows latitude in GPS coordinate of the end point.\n",
    "# End_Lng: Shows longitude in GPS coordinate of the end point.\n",
    "# Description: Shows natural language description of the accident.\n",
    "# Country: The whole dataset is for a single country.\n",
    "# Number: Street Number in the address field. 65% NaN values. Address cannot be fixed by mean or median value.\n",
    "\n",
    "df = df.drop(['ID','End_Lat','End_Lng','Description','Country','Number'],axis=1)"
   ]
  },
  {
   "cell_type": "markdown",
   "metadata": {},
   "source": [
    "\n",
    "\n",
    "#### Convert columns with datetime data to datetime data-type"
   ]
  },
  {
   "cell_type": "code",
   "execution_count": 10,
   "metadata": {},
   "outputs": [],
   "source": [
    "df['Start_Time'] = pd.to_datetime(df['Start_Time'])\n",
    "df['End_Time'] = pd.to_datetime(df['End_Time'])\n",
    "df['Weather_Timestamp'] = pd.to_datetime(df['Weather_Timestamp'])"
   ]
  },
  {
   "cell_type": "code",
   "execution_count": 11,
   "metadata": {},
   "outputs": [],
   "source": [
    "# Calculate 'Duration' as the difference between end time and start time in minute\n",
    "df['Duration'] = df.End_Time - df.Start_Time \n",
    "df['Duration'] = df['Duration'].apply(lambda x:round(x.total_seconds() / 60) )"
   ]
  },
  {
   "cell_type": "code",
   "execution_count": 12,
   "metadata": {},
   "outputs": [],
   "source": [
    "# Dropping column End_Time, as it is now redundant\n",
    "df = df.drop(['End_Time'],axis=1)"
   ]
  },
  {
   "cell_type": "code",
   "execution_count": 13,
   "metadata": {},
   "outputs": [
    {
     "name": "stdout",
     "output_type": "stream",
     "text": [
      "The mean duration of an accident with severity 1 is:  40.484 min\n",
      "The mean duration of an accident with severity 2 is:  161.871 min\n",
      "The mean duration of an accident with severity 3 is:  95.341 min\n",
      "The mean duration of an accident with severity 4 is:  788.767 min\n"
     ]
    }
   ],
   "source": [
    "print(\"The mean duration of an accident with severity 1 is: \",(round(df.query('Severity==1')['Duration'].mean(),3)),'min')\n",
    "print(\"The mean duration of an accident with severity 2 is: \",(round(df.query('Severity==2')['Duration'].mean(),3)),'min')\n",
    "print(\"The mean duration of an accident with severity 3 is: \",(round(df.query('Severity==3')['Duration'].mean(),3)),'min')\n",
    "print(\"The mean duration of an accident with severity 4 is: \",(round(df.query('Severity==4')['Duration'].mean(),3)),'min')"
   ]
  },
  {
   "cell_type": "code",
   "execution_count": 14,
   "metadata": {},
   "outputs": [
    {
     "data": {
      "text/plain": [
       "count    2.899892e+06\n",
       "mean     1.719207e+02\n",
       "std      4.255390e+03\n",
       "min      1.000000e+00\n",
       "25%      3.000000e+01\n",
       "50%      6.000000e+01\n",
       "75%      1.420000e+02\n",
       "max      1.528013e+06\n",
       "Name: Duration, dtype: float64"
      ]
     },
     "execution_count": 14,
     "metadata": {},
     "output_type": "execute_result"
    }
   ],
   "source": [
    "df['Duration'].describe()"
   ]
  },
  {
   "cell_type": "markdown",
   "metadata": {},
   "source": [
    "\n",
    "\n",
    "#### Cleaning Weather Features"
   ]
  },
  {
   "cell_type": "markdown",
   "metadata": {},
   "source": [
    "* Airport_Code\n",
    "* Weather_Timestamp\n",
    "* Temperature(F)\n",
    "* Wind_Chill(F)\n",
    "* Humidity(%)\n",
    "* Pressure(in)\n",
    "* Visibility(mi)\n",
    "* Wind_Direction\n",
    "* Wind_Speed(mph)\n",
    "* Precipitation(in)\n",
    "* Weather_Condition"
   ]
  },
  {
   "cell_type": "code",
   "execution_count": 15,
   "metadata": {},
   "outputs": [
    {
     "data": {
      "text/plain": [
       "Precipitation(in)    0.446458\n",
       "Wind_Chill(F)        0.405949\n",
       "Wind_Speed(mph)      0.103639\n",
       "Visibility(mi)       0.022574\n",
       "Weather_Condition    0.022495\n",
       "Humidity(%)          0.022296\n",
       "Temperature(F)       0.020901\n",
       "Wind_Direction       0.019609\n",
       "Pressure(in)         0.017343\n",
       "Weather_Timestamp    0.013899\n",
       "dtype: float64"
      ]
     },
     "execution_count": 15,
     "metadata": {},
     "output_type": "execute_result"
    }
   ],
   "source": [
    "total = df.isna().sum().sort_values(ascending=False)\n",
    "missing_data = total / len(df)\n",
    "missing_data = missing_data[missing_data>0]\n",
    "missing_data"
   ]
  },
  {
   "cell_type": "code",
   "execution_count": 16,
   "metadata": {},
   "outputs": [
    {
     "data": {
      "text/html": [
       "<div>\n",
       "<style scoped>\n",
       "    .dataframe tbody tr th:only-of-type {\n",
       "        vertical-align: middle;\n",
       "    }\n",
       "\n",
       "    .dataframe tbody tr th {\n",
       "        vertical-align: top;\n",
       "    }\n",
       "\n",
       "    .dataframe thead th {\n",
       "        text-align: right;\n",
       "    }\n",
       "</style>\n",
       "<table border=\"1\" class=\"dataframe\">\n",
       "  <thead>\n",
       "    <tr style=\"text-align: right;\">\n",
       "      <th></th>\n",
       "      <th>Severity</th>\n",
       "      <th>Start_Time</th>\n",
       "      <th>Start_Lat</th>\n",
       "      <th>Start_Lng</th>\n",
       "      <th>Distance(mi)</th>\n",
       "      <th>Street</th>\n",
       "      <th>Side</th>\n",
       "      <th>City</th>\n",
       "      <th>County</th>\n",
       "      <th>State</th>\n",
       "      <th>Zipcode</th>\n",
       "      <th>Timezone</th>\n",
       "      <th>Airport_Code</th>\n",
       "      <th>Weather_Timestamp</th>\n",
       "      <th>Temperature(F)</th>\n",
       "      <th>Wind_Chill(F)</th>\n",
       "      <th>Humidity(%)</th>\n",
       "      <th>Pressure(in)</th>\n",
       "      <th>Visibility(mi)</th>\n",
       "      <th>Wind_Direction</th>\n",
       "      <th>Wind_Speed(mph)</th>\n",
       "      <th>Precipitation(in)</th>\n",
       "      <th>Weather_Condition</th>\n",
       "      <th>Amenity</th>\n",
       "      <th>Bump</th>\n",
       "      <th>Crossing</th>\n",
       "      <th>Give_Way</th>\n",
       "      <th>Junction</th>\n",
       "      <th>No_Exit</th>\n",
       "      <th>Railway</th>\n",
       "      <th>Roundabout</th>\n",
       "      <th>Station</th>\n",
       "      <th>Stop</th>\n",
       "      <th>Traffic_Calming</th>\n",
       "      <th>Traffic_Signal</th>\n",
       "      <th>Turning_Loop</th>\n",
       "      <th>Sunrise_Sunset</th>\n",
       "      <th>Civil_Twilight</th>\n",
       "      <th>Nautical_Twilight</th>\n",
       "      <th>Astronomical_Twilight</th>\n",
       "      <th>Duration</th>\n",
       "    </tr>\n",
       "  </thead>\n",
       "  <tbody>\n",
       "    <tr>\n",
       "      <th>0</th>\n",
       "      <td>2</td>\n",
       "      <td>2019-05-21 08:29:55</td>\n",
       "      <td>34.808868</td>\n",
       "      <td>-82.269157</td>\n",
       "      <td>0.000</td>\n",
       "      <td>Tanner Rd</td>\n",
       "      <td>R</td>\n",
       "      <td>Greenville</td>\n",
       "      <td>Greenville</td>\n",
       "      <td>SC</td>\n",
       "      <td>29607-6027</td>\n",
       "      <td>US/Eastern</td>\n",
       "      <td>KGMU</td>\n",
       "      <td>2019-05-21 08:53:00</td>\n",
       "      <td>76.0</td>\n",
       "      <td>76.0</td>\n",
       "      <td>52.0</td>\n",
       "      <td>28.91</td>\n",
       "      <td>10.0</td>\n",
       "      <td>N</td>\n",
       "      <td>7.0</td>\n",
       "      <td>0.00</td>\n",
       "      <td>Fair</td>\n",
       "      <td>False</td>\n",
       "      <td>False</td>\n",
       "      <td>False</td>\n",
       "      <td>False</td>\n",
       "      <td>False</td>\n",
       "      <td>False</td>\n",
       "      <td>False</td>\n",
       "      <td>False</td>\n",
       "      <td>False</td>\n",
       "      <td>False</td>\n",
       "      <td>False</td>\n",
       "      <td>False</td>\n",
       "      <td>False</td>\n",
       "      <td>Day</td>\n",
       "      <td>Day</td>\n",
       "      <td>Day</td>\n",
       "      <td>Day</td>\n",
       "      <td>60</td>\n",
       "    </tr>\n",
       "    <tr>\n",
       "      <th>1</th>\n",
       "      <td>2</td>\n",
       "      <td>2019-10-07 17:43:09</td>\n",
       "      <td>35.090080</td>\n",
       "      <td>-80.745560</td>\n",
       "      <td>0.000</td>\n",
       "      <td>Providence Branch Ln</td>\n",
       "      <td>R</td>\n",
       "      <td>Charlotte</td>\n",
       "      <td>Mecklenburg</td>\n",
       "      <td>NC</td>\n",
       "      <td>28270-8560</td>\n",
       "      <td>US/Eastern</td>\n",
       "      <td>KEQY</td>\n",
       "      <td>2019-10-07 17:53:00</td>\n",
       "      <td>76.0</td>\n",
       "      <td>76.0</td>\n",
       "      <td>62.0</td>\n",
       "      <td>29.30</td>\n",
       "      <td>10.0</td>\n",
       "      <td>VAR</td>\n",
       "      <td>3.0</td>\n",
       "      <td>0.00</td>\n",
       "      <td>Cloudy</td>\n",
       "      <td>False</td>\n",
       "      <td>False</td>\n",
       "      <td>False</td>\n",
       "      <td>False</td>\n",
       "      <td>False</td>\n",
       "      <td>False</td>\n",
       "      <td>False</td>\n",
       "      <td>False</td>\n",
       "      <td>False</td>\n",
       "      <td>False</td>\n",
       "      <td>False</td>\n",
       "      <td>False</td>\n",
       "      <td>False</td>\n",
       "      <td>Day</td>\n",
       "      <td>Day</td>\n",
       "      <td>Day</td>\n",
       "      <td>Day</td>\n",
       "      <td>120</td>\n",
       "    </tr>\n",
       "    <tr>\n",
       "      <th>2</th>\n",
       "      <td>2</td>\n",
       "      <td>2020-12-13 21:53:00</td>\n",
       "      <td>37.145730</td>\n",
       "      <td>-121.985052</td>\n",
       "      <td>1.400</td>\n",
       "      <td>Santa Cruz Hwy</td>\n",
       "      <td>R</td>\n",
       "      <td>Los Gatos</td>\n",
       "      <td>Santa Clara</td>\n",
       "      <td>CA</td>\n",
       "      <td>95033</td>\n",
       "      <td>US/Pacific</td>\n",
       "      <td>KSJC</td>\n",
       "      <td>2020-12-13 21:53:00</td>\n",
       "      <td>51.0</td>\n",
       "      <td>51.0</td>\n",
       "      <td>80.0</td>\n",
       "      <td>30.17</td>\n",
       "      <td>10.0</td>\n",
       "      <td>W</td>\n",
       "      <td>6.0</td>\n",
       "      <td>0.00</td>\n",
       "      <td>Fair</td>\n",
       "      <td>False</td>\n",
       "      <td>False</td>\n",
       "      <td>False</td>\n",
       "      <td>False</td>\n",
       "      <td>False</td>\n",
       "      <td>False</td>\n",
       "      <td>False</td>\n",
       "      <td>False</td>\n",
       "      <td>False</td>\n",
       "      <td>False</td>\n",
       "      <td>False</td>\n",
       "      <td>False</td>\n",
       "      <td>False</td>\n",
       "      <td>Night</td>\n",
       "      <td>Night</td>\n",
       "      <td>Night</td>\n",
       "      <td>Night</td>\n",
       "      <td>51</td>\n",
       "    </tr>\n",
       "    <tr>\n",
       "      <th>6</th>\n",
       "      <td>4</td>\n",
       "      <td>2019-12-12 09:48:52</td>\n",
       "      <td>39.523970</td>\n",
       "      <td>-107.777000</td>\n",
       "      <td>14.153</td>\n",
       "      <td>I-70 E</td>\n",
       "      <td>R</td>\n",
       "      <td>Rifle</td>\n",
       "      <td>Garfield</td>\n",
       "      <td>CO</td>\n",
       "      <td>81650</td>\n",
       "      <td>US/Mountain</td>\n",
       "      <td>KRIL</td>\n",
       "      <td>2019-12-12 09:46:00</td>\n",
       "      <td>28.0</td>\n",
       "      <td>28.0</td>\n",
       "      <td>88.0</td>\n",
       "      <td>24.67</td>\n",
       "      <td>2.0</td>\n",
       "      <td>NE</td>\n",
       "      <td>3.0</td>\n",
       "      <td>0.00</td>\n",
       "      <td>Light Snow</td>\n",
       "      <td>False</td>\n",
       "      <td>False</td>\n",
       "      <td>False</td>\n",
       "      <td>False</td>\n",
       "      <td>False</td>\n",
       "      <td>False</td>\n",
       "      <td>False</td>\n",
       "      <td>False</td>\n",
       "      <td>False</td>\n",
       "      <td>False</td>\n",
       "      <td>False</td>\n",
       "      <td>False</td>\n",
       "      <td>False</td>\n",
       "      <td>Day</td>\n",
       "      <td>Day</td>\n",
       "      <td>Day</td>\n",
       "      <td>Day</td>\n",
       "      <td>29</td>\n",
       "    </tr>\n",
       "    <tr>\n",
       "      <th>7</th>\n",
       "      <td>2</td>\n",
       "      <td>2019-12-21 23:59:00</td>\n",
       "      <td>34.034017</td>\n",
       "      <td>-118.026972</td>\n",
       "      <td>0.000</td>\n",
       "      <td>CA-60 W</td>\n",
       "      <td>R</td>\n",
       "      <td>Whittier</td>\n",
       "      <td>Los Angeles</td>\n",
       "      <td>CA</td>\n",
       "      <td>90601</td>\n",
       "      <td>US/Pacific</td>\n",
       "      <td>KEMT</td>\n",
       "      <td>2019-12-21 23:53:00</td>\n",
       "      <td>55.0</td>\n",
       "      <td>55.0</td>\n",
       "      <td>40.0</td>\n",
       "      <td>29.86</td>\n",
       "      <td>10.0</td>\n",
       "      <td>E</td>\n",
       "      <td>5.0</td>\n",
       "      <td>0.00</td>\n",
       "      <td>Fair</td>\n",
       "      <td>False</td>\n",
       "      <td>False</td>\n",
       "      <td>False</td>\n",
       "      <td>False</td>\n",
       "      <td>False</td>\n",
       "      <td>False</td>\n",
       "      <td>False</td>\n",
       "      <td>False</td>\n",
       "      <td>False</td>\n",
       "      <td>False</td>\n",
       "      <td>False</td>\n",
       "      <td>False</td>\n",
       "      <td>False</td>\n",
       "      <td>Night</td>\n",
       "      <td>Night</td>\n",
       "      <td>Night</td>\n",
       "      <td>Night</td>\n",
       "      <td>33</td>\n",
       "    </tr>\n",
       "    <tr>\n",
       "      <th>...</th>\n",
       "      <td>...</td>\n",
       "      <td>...</td>\n",
       "      <td>...</td>\n",
       "      <td>...</td>\n",
       "      <td>...</td>\n",
       "      <td>...</td>\n",
       "      <td>...</td>\n",
       "      <td>...</td>\n",
       "      <td>...</td>\n",
       "      <td>...</td>\n",
       "      <td>...</td>\n",
       "      <td>...</td>\n",
       "      <td>...</td>\n",
       "      <td>...</td>\n",
       "      <td>...</td>\n",
       "      <td>...</td>\n",
       "      <td>...</td>\n",
       "      <td>...</td>\n",
       "      <td>...</td>\n",
       "      <td>...</td>\n",
       "      <td>...</td>\n",
       "      <td>...</td>\n",
       "      <td>...</td>\n",
       "      <td>...</td>\n",
       "      <td>...</td>\n",
       "      <td>...</td>\n",
       "      <td>...</td>\n",
       "      <td>...</td>\n",
       "      <td>...</td>\n",
       "      <td>...</td>\n",
       "      <td>...</td>\n",
       "      <td>...</td>\n",
       "      <td>...</td>\n",
       "      <td>...</td>\n",
       "      <td>...</td>\n",
       "      <td>...</td>\n",
       "      <td>...</td>\n",
       "      <td>...</td>\n",
       "      <td>...</td>\n",
       "      <td>...</td>\n",
       "      <td>...</td>\n",
       "    </tr>\n",
       "    <tr>\n",
       "      <th>2906599</th>\n",
       "      <td>2</td>\n",
       "      <td>2020-02-24 11:34:00</td>\n",
       "      <td>33.888992</td>\n",
       "      <td>-118.188797</td>\n",
       "      <td>0.000</td>\n",
       "      <td>E Alondra Blvd</td>\n",
       "      <td>R</td>\n",
       "      <td>Compton</td>\n",
       "      <td>Los Angeles</td>\n",
       "      <td>CA</td>\n",
       "      <td>90221</td>\n",
       "      <td>US/Pacific</td>\n",
       "      <td>KLGB</td>\n",
       "      <td>2020-02-24 11:53:00</td>\n",
       "      <td>68.0</td>\n",
       "      <td>68.0</td>\n",
       "      <td>47.0</td>\n",
       "      <td>30.12</td>\n",
       "      <td>10.0</td>\n",
       "      <td>CALM</td>\n",
       "      <td>0.0</td>\n",
       "      <td>0.00</td>\n",
       "      <td>Fair</td>\n",
       "      <td>False</td>\n",
       "      <td>False</td>\n",
       "      <td>False</td>\n",
       "      <td>False</td>\n",
       "      <td>False</td>\n",
       "      <td>False</td>\n",
       "      <td>False</td>\n",
       "      <td>False</td>\n",
       "      <td>False</td>\n",
       "      <td>False</td>\n",
       "      <td>False</td>\n",
       "      <td>False</td>\n",
       "      <td>False</td>\n",
       "      <td>Day</td>\n",
       "      <td>Day</td>\n",
       "      <td>Day</td>\n",
       "      <td>Day</td>\n",
       "      <td>115</td>\n",
       "    </tr>\n",
       "    <tr>\n",
       "      <th>2906600</th>\n",
       "      <td>2</td>\n",
       "      <td>2019-07-25 15:55:24</td>\n",
       "      <td>41.212261</td>\n",
       "      <td>-95.948593</td>\n",
       "      <td>0.000</td>\n",
       "      <td>S 25th St</td>\n",
       "      <td>R</td>\n",
       "      <td>Omaha</td>\n",
       "      <td>Douglas</td>\n",
       "      <td>NE</td>\n",
       "      <td>68107</td>\n",
       "      <td>US/Central</td>\n",
       "      <td>KOFF</td>\n",
       "      <td>2019-07-25 15:56:00</td>\n",
       "      <td>77.0</td>\n",
       "      <td>77.0</td>\n",
       "      <td>65.0</td>\n",
       "      <td>28.98</td>\n",
       "      <td>7.0</td>\n",
       "      <td>SSE</td>\n",
       "      <td>16.0</td>\n",
       "      <td>0.00</td>\n",
       "      <td>Mostly Cloudy</td>\n",
       "      <td>False</td>\n",
       "      <td>False</td>\n",
       "      <td>False</td>\n",
       "      <td>False</td>\n",
       "      <td>False</td>\n",
       "      <td>False</td>\n",
       "      <td>False</td>\n",
       "      <td>False</td>\n",
       "      <td>False</td>\n",
       "      <td>False</td>\n",
       "      <td>False</td>\n",
       "      <td>True</td>\n",
       "      <td>False</td>\n",
       "      <td>Day</td>\n",
       "      <td>Day</td>\n",
       "      <td>Day</td>\n",
       "      <td>Day</td>\n",
       "      <td>60</td>\n",
       "    </tr>\n",
       "    <tr>\n",
       "      <th>2906602</th>\n",
       "      <td>2</td>\n",
       "      <td>2020-10-31 03:49:00</td>\n",
       "      <td>30.420856</td>\n",
       "      <td>-97.624067</td>\n",
       "      <td>0.236</td>\n",
       "      <td>Rendova Ln</td>\n",
       "      <td>R</td>\n",
       "      <td>Pflugerville</td>\n",
       "      <td>Travis</td>\n",
       "      <td>TX</td>\n",
       "      <td>78660-8022</td>\n",
       "      <td>US/Central</td>\n",
       "      <td>KEDC</td>\n",
       "      <td>2020-10-31 03:55:00</td>\n",
       "      <td>45.0</td>\n",
       "      <td>45.0</td>\n",
       "      <td>81.0</td>\n",
       "      <td>29.54</td>\n",
       "      <td>0.5</td>\n",
       "      <td>CALM</td>\n",
       "      <td>0.0</td>\n",
       "      <td>0.00</td>\n",
       "      <td>Haze</td>\n",
       "      <td>False</td>\n",
       "      <td>False</td>\n",
       "      <td>False</td>\n",
       "      <td>False</td>\n",
       "      <td>False</td>\n",
       "      <td>False</td>\n",
       "      <td>False</td>\n",
       "      <td>False</td>\n",
       "      <td>False</td>\n",
       "      <td>False</td>\n",
       "      <td>False</td>\n",
       "      <td>False</td>\n",
       "      <td>False</td>\n",
       "      <td>Night</td>\n",
       "      <td>Night</td>\n",
       "      <td>Night</td>\n",
       "      <td>Night</td>\n",
       "      <td>99</td>\n",
       "    </tr>\n",
       "    <tr>\n",
       "      <th>2906604</th>\n",
       "      <td>2</td>\n",
       "      <td>2020-10-02 08:42:20</td>\n",
       "      <td>26.392847</td>\n",
       "      <td>-80.095268</td>\n",
       "      <td>0.000</td>\n",
       "      <td>I-95 S</td>\n",
       "      <td>R</td>\n",
       "      <td>Boca Raton</td>\n",
       "      <td>Palm Beach</td>\n",
       "      <td>FL</td>\n",
       "      <td>33431</td>\n",
       "      <td>US/Eastern</td>\n",
       "      <td>KBCT</td>\n",
       "      <td>2020-10-02 08:53:00</td>\n",
       "      <td>77.0</td>\n",
       "      <td>77.0</td>\n",
       "      <td>96.0</td>\n",
       "      <td>29.92</td>\n",
       "      <td>10.0</td>\n",
       "      <td>WNW</td>\n",
       "      <td>6.0</td>\n",
       "      <td>0.01</td>\n",
       "      <td>Cloudy</td>\n",
       "      <td>False</td>\n",
       "      <td>False</td>\n",
       "      <td>False</td>\n",
       "      <td>False</td>\n",
       "      <td>False</td>\n",
       "      <td>False</td>\n",
       "      <td>False</td>\n",
       "      <td>False</td>\n",
       "      <td>False</td>\n",
       "      <td>False</td>\n",
       "      <td>False</td>\n",
       "      <td>False</td>\n",
       "      <td>False</td>\n",
       "      <td>Day</td>\n",
       "      <td>Day</td>\n",
       "      <td>Day</td>\n",
       "      <td>Day</td>\n",
       "      <td>105</td>\n",
       "    </tr>\n",
       "    <tr>\n",
       "      <th>2906607</th>\n",
       "      <td>2</td>\n",
       "      <td>2020-11-23 12:52:00</td>\n",
       "      <td>25.702200</td>\n",
       "      <td>-80.335556</td>\n",
       "      <td>0.108</td>\n",
       "      <td>SW 72nd St</td>\n",
       "      <td>L</td>\n",
       "      <td>Miami</td>\n",
       "      <td>Miami-Dade</td>\n",
       "      <td>FL</td>\n",
       "      <td>33173-3512</td>\n",
       "      <td>US/Eastern</td>\n",
       "      <td>KTMB</td>\n",
       "      <td>2020-11-23 12:53:00</td>\n",
       "      <td>76.0</td>\n",
       "      <td>76.0</td>\n",
       "      <td>85.0</td>\n",
       "      <td>30.00</td>\n",
       "      <td>10.0</td>\n",
       "      <td>NNW</td>\n",
       "      <td>16.0</td>\n",
       "      <td>0.00</td>\n",
       "      <td>Mostly Cloudy</td>\n",
       "      <td>False</td>\n",
       "      <td>False</td>\n",
       "      <td>False</td>\n",
       "      <td>False</td>\n",
       "      <td>False</td>\n",
       "      <td>False</td>\n",
       "      <td>False</td>\n",
       "      <td>False</td>\n",
       "      <td>False</td>\n",
       "      <td>False</td>\n",
       "      <td>False</td>\n",
       "      <td>False</td>\n",
       "      <td>False</td>\n",
       "      <td>Day</td>\n",
       "      <td>Day</td>\n",
       "      <td>Day</td>\n",
       "      <td>Day</td>\n",
       "      <td>716</td>\n",
       "    </tr>\n",
       "  </tbody>\n",
       "</table>\n",
       "<p>1233510 rows × 41 columns</p>\n",
       "</div>"
      ],
      "text/plain": [
       "         Severity          Start_Time  Start_Lat   Start_Lng  Distance(mi)  \\\n",
       "0               2 2019-05-21 08:29:55  34.808868  -82.269157         0.000   \n",
       "1               2 2019-10-07 17:43:09  35.090080  -80.745560         0.000   \n",
       "2               2 2020-12-13 21:53:00  37.145730 -121.985052         1.400   \n",
       "6               4 2019-12-12 09:48:52  39.523970 -107.777000        14.153   \n",
       "7               2 2019-12-21 23:59:00  34.034017 -118.026972         0.000   \n",
       "...           ...                 ...        ...         ...           ...   \n",
       "2906599         2 2020-02-24 11:34:00  33.888992 -118.188797         0.000   \n",
       "2906600         2 2019-07-25 15:55:24  41.212261  -95.948593         0.000   \n",
       "2906602         2 2020-10-31 03:49:00  30.420856  -97.624067         0.236   \n",
       "2906604         2 2020-10-02 08:42:20  26.392847  -80.095268         0.000   \n",
       "2906607         2 2020-11-23 12:52:00  25.702200  -80.335556         0.108   \n",
       "\n",
       "                       Street Side          City       County State  \\\n",
       "0                   Tanner Rd    R    Greenville   Greenville    SC   \n",
       "1        Providence Branch Ln    R     Charlotte  Mecklenburg    NC   \n",
       "2              Santa Cruz Hwy    R     Los Gatos  Santa Clara    CA   \n",
       "6                      I-70 E    R         Rifle     Garfield    CO   \n",
       "7                     CA-60 W    R      Whittier  Los Angeles    CA   \n",
       "...                       ...  ...           ...          ...   ...   \n",
       "2906599        E Alondra Blvd    R       Compton  Los Angeles    CA   \n",
       "2906600             S 25th St    R         Omaha      Douglas    NE   \n",
       "2906602            Rendova Ln    R  Pflugerville       Travis    TX   \n",
       "2906604                I-95 S    R    Boca Raton   Palm Beach    FL   \n",
       "2906607            SW 72nd St    L         Miami   Miami-Dade    FL   \n",
       "\n",
       "            Zipcode     Timezone Airport_Code   Weather_Timestamp  \\\n",
       "0        29607-6027   US/Eastern         KGMU 2019-05-21 08:53:00   \n",
       "1        28270-8560   US/Eastern         KEQY 2019-10-07 17:53:00   \n",
       "2             95033   US/Pacific         KSJC 2020-12-13 21:53:00   \n",
       "6             81650  US/Mountain         KRIL 2019-12-12 09:46:00   \n",
       "7             90601   US/Pacific         KEMT 2019-12-21 23:53:00   \n",
       "...             ...          ...          ...                 ...   \n",
       "2906599       90221   US/Pacific         KLGB 2020-02-24 11:53:00   \n",
       "2906600       68107   US/Central         KOFF 2019-07-25 15:56:00   \n",
       "2906602  78660-8022   US/Central         KEDC 2020-10-31 03:55:00   \n",
       "2906604       33431   US/Eastern         KBCT 2020-10-02 08:53:00   \n",
       "2906607  33173-3512   US/Eastern         KTMB 2020-11-23 12:53:00   \n",
       "\n",
       "         Temperature(F)  Wind_Chill(F)  Humidity(%)  Pressure(in)  \\\n",
       "0                  76.0           76.0         52.0         28.91   \n",
       "1                  76.0           76.0         62.0         29.30   \n",
       "2                  51.0           51.0         80.0         30.17   \n",
       "6                  28.0           28.0         88.0         24.67   \n",
       "7                  55.0           55.0         40.0         29.86   \n",
       "...                 ...            ...          ...           ...   \n",
       "2906599            68.0           68.0         47.0         30.12   \n",
       "2906600            77.0           77.0         65.0         28.98   \n",
       "2906602            45.0           45.0         81.0         29.54   \n",
       "2906604            77.0           77.0         96.0         29.92   \n",
       "2906607            76.0           76.0         85.0         30.00   \n",
       "\n",
       "         Visibility(mi) Wind_Direction  Wind_Speed(mph)  Precipitation(in)  \\\n",
       "0                  10.0              N              7.0               0.00   \n",
       "1                  10.0            VAR              3.0               0.00   \n",
       "2                  10.0              W              6.0               0.00   \n",
       "6                   2.0             NE              3.0               0.00   \n",
       "7                  10.0              E              5.0               0.00   \n",
       "...                 ...            ...              ...                ...   \n",
       "2906599            10.0           CALM              0.0               0.00   \n",
       "2906600             7.0            SSE             16.0               0.00   \n",
       "2906602             0.5           CALM              0.0               0.00   \n",
       "2906604            10.0            WNW              6.0               0.01   \n",
       "2906607            10.0            NNW             16.0               0.00   \n",
       "\n",
       "        Weather_Condition  Amenity   Bump  Crossing  Give_Way  Junction  \\\n",
       "0                    Fair    False  False     False     False     False   \n",
       "1                  Cloudy    False  False     False     False     False   \n",
       "2                    Fair    False  False     False     False     False   \n",
       "6              Light Snow    False  False     False     False     False   \n",
       "7                    Fair    False  False     False     False     False   \n",
       "...                   ...      ...    ...       ...       ...       ...   \n",
       "2906599              Fair    False  False     False     False     False   \n",
       "2906600     Mostly Cloudy    False  False     False     False     False   \n",
       "2906602              Haze    False  False     False     False     False   \n",
       "2906604            Cloudy    False  False     False     False     False   \n",
       "2906607     Mostly Cloudy    False  False     False     False     False   \n",
       "\n",
       "         No_Exit  Railway  Roundabout  Station   Stop  Traffic_Calming  \\\n",
       "0          False    False       False    False  False            False   \n",
       "1          False    False       False    False  False            False   \n",
       "2          False    False       False    False  False            False   \n",
       "6          False    False       False    False  False            False   \n",
       "7          False    False       False    False  False            False   \n",
       "...          ...      ...         ...      ...    ...              ...   \n",
       "2906599    False    False       False    False  False            False   \n",
       "2906600    False    False       False    False  False            False   \n",
       "2906602    False    False       False    False  False            False   \n",
       "2906604    False    False       False    False  False            False   \n",
       "2906607    False    False       False    False  False            False   \n",
       "\n",
       "         Traffic_Signal  Turning_Loop Sunrise_Sunset Civil_Twilight  \\\n",
       "0                 False         False            Day            Day   \n",
       "1                 False         False            Day            Day   \n",
       "2                 False         False          Night          Night   \n",
       "6                 False         False            Day            Day   \n",
       "7                 False         False          Night          Night   \n",
       "...                 ...           ...            ...            ...   \n",
       "2906599           False         False            Day            Day   \n",
       "2906600            True         False            Day            Day   \n",
       "2906602           False         False          Night          Night   \n",
       "2906604           False         False            Day            Day   \n",
       "2906607           False         False            Day            Day   \n",
       "\n",
       "        Nautical_Twilight Astronomical_Twilight  Duration  \n",
       "0                     Day                   Day        60  \n",
       "1                     Day                   Day       120  \n",
       "2                   Night                 Night        51  \n",
       "6                     Day                   Day        29  \n",
       "7                   Night                 Night        33  \n",
       "...                   ...                   ...       ...  \n",
       "2906599               Day                   Day       115  \n",
       "2906600               Day                   Day        60  \n",
       "2906602             Night                 Night        99  \n",
       "2906604               Day                   Day       105  \n",
       "2906607               Day                   Day       716  \n",
       "\n",
       "[1233510 rows x 41 columns]"
      ]
     },
     "execution_count": 16,
     "metadata": {},
     "output_type": "execute_result"
    }
   ],
   "source": [
    "df.loc[df['Wind_Chill(F)']==df['Temperature(F)']]"
   ]
  },
  {
   "cell_type": "code",
   "execution_count": 17,
   "metadata": {},
   "outputs": [],
   "source": [
    "# Wind_Chill is highly dependent on Temperature\n",
    "\n",
    "# And as most of the Wind_Chill values are equal to Temperature values. We can drop the WindChill(F) column\n",
    "\n",
    "df.drop(['Wind_Chill(F)'],axis=1,inplace=True)"
   ]
  },
  {
   "cell_type": "code",
   "execution_count": 18,
   "metadata": {},
   "outputs": [
    {
     "data": {
      "text/plain": [
       "array(['N', 'VAR', 'W', 'SSW', 'SSE', 'NNW', 'NE', 'E', 'West', 'S',\n",
       "       'Variable', 'WSW', 'SW', 'ESE', 'South', 'ENE', 'Calm', 'NNE',\n",
       "       'CALM', 'NW', 'East', 'North', 'WNW', 'SE', nan], dtype=object)"
      ]
     },
     "execution_count": 18,
     "metadata": {},
     "output_type": "execute_result"
    }
   ],
   "source": [
    "df['Wind_Direction'].unique()"
   ]
  },
  {
   "cell_type": "code",
   "execution_count": 19,
   "metadata": {},
   "outputs": [
    {
     "data": {
      "text/plain": [
       "array(['N', 'VAR', 'W', 'S', 'NE', 'E', 'SW', 'CALM', 'NW', 'SE', nan],\n",
       "      dtype=object)"
      ]
     },
     "execution_count": 19,
     "metadata": {},
     "output_type": "execute_result"
    }
   ],
   "source": [
    "# Simplifying wind direction categories\n",
    "\n",
    "df.loc[df['Wind_Direction']=='Calm','Wind_Direction'] = 'CALM'\n",
    "\n",
    "df.loc[(df['Wind_Direction']=='West')|(df['Wind_Direction']=='WSW')|(df['Wind_Direction']=='WNW'),'Wind_Direction'] = 'W'\n",
    "\n",
    "df.loc[(df['Wind_Direction']=='South')|(df['Wind_Direction']=='SSW')|(df['Wind_Direction']=='SSE'),'Wind_Direction'] = 'S'\n",
    "\n",
    "df.loc[(df['Wind_Direction']=='North')|(df['Wind_Direction']=='NNW')|(df['Wind_Direction']=='NNE'),'Wind_Direction'] = 'N'\n",
    "\n",
    "df.loc[(df['Wind_Direction']=='East')|(df['Wind_Direction']=='ESE')|(df['Wind_Direction']=='ENE'),'Wind_Direction'] = 'E'\n",
    "\n",
    "df.loc[df['Wind_Direction']=='Variable','Wind_Direction'] = 'VAR'\n",
    "\n",
    "df['Wind_Direction'].unique()"
   ]
  },
  {
   "cell_type": "code",
   "execution_count": 20,
   "metadata": {},
   "outputs": [],
   "source": [
    "# Note that when Wind_Speed(mph) is zero, there is no Wind_Direction, using that for both columns\n",
    "\n",
    "df.loc[( (df['Wind_Direction']=='CALM') & df['Wind_Speed(mph)'].isnull() ),'Wind_Speed(mph)'] = 0\n"
   ]
  },
  {
   "cell_type": "code",
   "execution_count": 21,
   "metadata": {},
   "outputs": [
    {
     "data": {
      "text/plain": [
       "Precipitation(in)    0.446458\n",
       "Wind_Speed(mph)      0.025728\n",
       "Visibility(mi)       0.022574\n",
       "Weather_Condition    0.022495\n",
       "Humidity(%)          0.022296\n",
       "Temperature(F)       0.020901\n",
       "Wind_Direction       0.019609\n",
       "Pressure(in)         0.017343\n",
       "Weather_Timestamp    0.013899\n",
       "dtype: float64"
      ]
     },
     "execution_count": 21,
     "metadata": {},
     "output_type": "execute_result"
    }
   ],
   "source": [
    "total = df.isna().sum().sort_values(ascending=False)\n",
    "missing_data = total / len(df)\n",
    "missing_data = missing_data[missing_data>0]\n",
    "missing_data"
   ]
  },
  {
   "cell_type": "code",
   "execution_count": 22,
   "metadata": {},
   "outputs": [],
   "source": [
    "# For weather features we will take the median values depending upon the 'Airport_Code' for a time period.\n",
    "\n",
    "# We need some date and time fields.\n",
    "\n",
    "df['Year']=df['Start_Time'].dt.year\n",
    "df['Month']=df['Start_Time'].dt.month\n",
    "df['Day']=df['Start_Time'].dt.day\n",
    "df['Hour']=df['Start_Time'].dt.hour\n",
    "df['Minute']=df['Start_Time'].dt.minute\n",
    "df['Weekday']=df['Start_Time'].dt.weekday\n"
   ]
  },
  {
   "cell_type": "code",
   "execution_count": 23,
   "metadata": {},
   "outputs": [],
   "source": [
    "def day_name(w):\n",
    "    d = {0:'Monday', 1:'Tuesday', 2:'Wednesday', 3:'Thursday', 4:'Friday', 5:'Saturday', 6:'Sunday'}\n",
    "    return d[w]\n",
    "\n",
    "df['Weekday']=df['Weekday'].apply(lambda x:day_name(x))"
   ]
  },
  {
   "cell_type": "code",
   "execution_count": 24,
   "metadata": {},
   "outputs": [
    {
     "data": {
      "text/plain": [
       "0      Tuesday\n",
       "1       Monday\n",
       "2       Sunday\n",
       "3      Tuesday\n",
       "4    Wednesday\n",
       "Name: Weekday, dtype: object"
      ]
     },
     "execution_count": 24,
     "metadata": {},
     "output_type": "execute_result"
    }
   ],
   "source": [
    "df['Weekday'].head()"
   ]
  },
  {
   "cell_type": "code",
   "execution_count": 25,
   "metadata": {},
   "outputs": [],
   "source": [
    "df.drop(['Start_Time'],axis=1,inplace=True)"
   ]
  },
  {
   "cell_type": "code",
   "execution_count": 26,
   "metadata": {},
   "outputs": [
    {
     "name": "stdout",
     "output_type": "stream",
     "text": [
      "The number of remaining missing values: \n",
      "Temperature(F) : 6064\n",
      "Humidity(%) : 6089\n",
      "Pressure(in) : 6046\n",
      "Visibility(mi) : 15632\n",
      "Wind_Speed(mph) : 15251\n"
     ]
    }
   ],
   "source": [
    "# Grouping the  data by 'Airport_Code' and 'Month' then fill missing values with median value\n",
    "\n",
    "weather_data=['Temperature(F)','Humidity(%)','Pressure(in)','Visibility(mi)','Wind_Speed(mph)']\n",
    "\n",
    "print(\"The number of remaining missing values: \")\n",
    "\n",
    "for i in weather_data:\n",
    "  df[i] = df.groupby(['Airport_Code','Month'])[i].apply(lambda x: x.fillna(x.median()))\n",
    "  print( i + \" : \" + df[i].isnull().sum().astype(str))"
   ]
  },
  {
   "cell_type": "code",
   "execution_count": 27,
   "metadata": {},
   "outputs": [],
   "source": [
    "# Dropping these missing values, since the number is quite low\n",
    "\n",
    "df.dropna(subset=weather_data,inplace=True)"
   ]
  },
  {
   "cell_type": "code",
   "execution_count": 28,
   "metadata": {},
   "outputs": [],
   "source": [
    "# Since a datetime value cannot be simply replaced with a mean or a median\n",
    "# We drop the missing values in 'Weather_Timestamp'\n",
    "\n",
    "df.dropna(subset=['Weather_Timestamp'],inplace=True)"
   ]
  },
  {
   "cell_type": "code",
   "execution_count": 29,
   "metadata": {},
   "outputs": [
    {
     "data": {
      "text/plain": [
       "Precipitation(in)    0.438435\n",
       "Weather_Condition    0.006342\n",
       "Wind_Direction       0.004822\n",
       "dtype: float64"
      ]
     },
     "execution_count": 29,
     "metadata": {},
     "output_type": "execute_result"
    }
   ],
   "source": [
    "total = df.isna().sum().sort_values(ascending=False)\n",
    "missing_data = total / len(df)\n",
    "missing_data = missing_data[missing_data>0]\n",
    "missing_data"
   ]
  },
  {
   "cell_type": "code",
   "execution_count": 30,
   "metadata": {},
   "outputs": [],
   "source": [
    "# Dropping the column 'Precipitation', since nearly half the data is missing\n",
    "df.drop(columns=['Precipitation(in)'],inplace=True)"
   ]
  },
  {
   "cell_type": "code",
   "execution_count": 31,
   "metadata": {},
   "outputs": [],
   "source": [
    "# Dropping the missing value rows from 'Weather_Condition' and 'Weather_Direction'\n",
    "df.dropna(subset=['Weather_Condition','Wind_Direction'],inplace=True)"
   ]
  },
  {
   "cell_type": "code",
   "execution_count": 32,
   "metadata": {},
   "outputs": [
    {
     "data": {
      "text/plain": [
       "Fair                                   686507\n",
       "Clear                                  498860\n",
       "Mostly Cloudy                          385134\n",
       "Partly Cloudy                          267746\n",
       "Cloudy                                 243531\n",
       "Overcast                               237039\n",
       "Light Rain                             140621\n",
       "Scattered Clouds                       127078\n",
       "Light Snow                              39618\n",
       "Fog                                     33293\n",
       "Rain                                    33270\n",
       "Haze                                    32823\n",
       "Heavy Rain                              12304\n",
       "Light Drizzle                            9471\n",
       "Fair / Windy                             9108\n",
       "Smoke                                    6020\n",
       "Mostly Cloudy / Windy                    5099\n",
       "Cloudy / Windy                           4772\n",
       "Snow                                     4552\n",
       "T-Storm                                  3248\n",
       "Light Thunderstorms and Rain             3089\n",
       "Partly Cloudy / Windy                    3053\n",
       "Thunder in the Vicinity                  2807\n",
       "Thunderstorm                             2798\n",
       "Light Rain / Windy                       2653\n",
       "Light Rain with Thunder                  2584\n",
       "Thunder                                  2285\n",
       "Drizzle                                  2015\n",
       "Wintry Mix                               1875\n",
       "Patches of Fog                           1836\n",
       "Mist                                     1749\n",
       "Heavy T-Storm                            1741\n",
       "Light Freezing Rain                      1489\n",
       "Heavy Thunderstorms and Rain             1475\n",
       "Light Snow / Windy                       1417\n",
       "Thunderstorms and Rain                   1415\n",
       "Heavy Snow                               1200\n",
       "Shallow Fog                              1150\n",
       "Light Freezing Fog                        722\n",
       "Rain / Windy                              709\n",
       "Light Freezing Drizzle                    527\n",
       "N/A Precipitation                         494\n",
       "Heavy Rain / Windy                        468\n",
       "Showers in the Vicinity                   414\n",
       "Snow / Windy                              287\n",
       "Haze / Windy                              283\n",
       "Blowing Snow                              255\n",
       "Heavy Drizzle                             210\n",
       "Heavy T-Storm / Windy                     174\n",
       "Light Ice Pellets                         166\n",
       "T-Storm / Windy                           164\n",
       "Light Rain Shower                         128\n",
       "Heavy Snow / Windy                        128\n",
       "Fog / Windy                               123\n",
       "Drizzle and Fog                           105\n",
       "Blowing Dust / Windy                      104\n",
       "Light Rain Showers                        102\n",
       "Blowing Dust                               99\n",
       "Widespread Dust                            97\n",
       "Thunder / Windy                            91\n",
       "Light Drizzle / Windy                      80\n",
       "Rain Showers                               76\n",
       "Blowing Snow / Windy                       70\n",
       "Ice Pellets                                69\n",
       "Smoke / Windy                              59\n",
       "Wintry Mix / Windy                         49\n",
       "Partial Fog                                32\n",
       "Squalls / Windy                            27\n",
       "Snow and Sleet                             25\n",
       "Snow and Sleet / Windy                     23\n",
       "Sleet                                      22\n",
       "Squalls                                    21\n",
       "Freezing Rain                              21\n",
       "Sand / Dust Whirlwinds                     20\n",
       "Rain Shower                                19\n",
       "Small Hail                                 19\n",
       "Light Sleet                                16\n",
       "Light Thunderstorms and Snow               16\n",
       "Light Snow Showers                         15\n",
       "Light Freezing Rain / Windy                14\n",
       "Light Snow and Sleet                       13\n",
       "Funnel Cloud                               11\n",
       "Volcanic Ash                               11\n",
       "Sand                                        9\n",
       "Light Snow and Sleet / Windy                9\n",
       "Light Rain Shower / Windy                   9\n",
       "Light Snow with Thunder                     7\n",
       "Drizzle / Windy                             7\n",
       "Heavy Snow with Thunder                     6\n",
       "Patches of Fog / Windy                      6\n",
       "Heavy Thunderstorms and Snow                5\n",
       "Thunder / Wintry Mix / Windy                5\n",
       "Light Sleet / Windy                         4\n",
       "Thunder / Wintry Mix                        4\n",
       "Heavy Sleet                                 4\n",
       "Light Haze                                  3\n",
       "Light Blowing Snow                          3\n",
       "Heavy Ice Pellets                           3\n",
       "Light Snow Grains                           3\n",
       "Heavy Rain Shower                           3\n",
       "Snow Grains                                 3\n",
       "Thunderstorms and Snow                      3\n",
       "Low Drifting Snow                           3\n",
       "Freezing Drizzle                            2\n",
       "Heavy Freezing Rain                         2\n",
       "Light Fog                                   2\n",
       "Light Hail                                  2\n",
       "Light Thunderstorm                          2\n",
       "Heavy Blowing Snow                          2\n",
       "Snow Showers                                2\n",
       "Tornado                                     2\n",
       "Hail                                        2\n",
       "Freezing Rain / Windy                       1\n",
       "Widespread Dust / Windy                     1\n",
       "Rain and Sleet                              1\n",
       "Heavy Smoke                                 1\n",
       "Mist / Windy                                1\n",
       "Dust Whirls                                 1\n",
       "Light Snow Shower                           1\n",
       "Thunder and Hail                            1\n",
       "Blowing Sand                                1\n",
       "Heavy Rain Showers                          1\n",
       "Heavy Freezing Drizzle                      1\n",
       "Thunder and Hail / Windy                    1\n",
       "Drifting Snow                               1\n",
       "Sleet / Windy                               1\n",
       "Heavy Thunderstorms with Small Hail         1\n",
       "Sand / Dust Whirls Nearby                   1\n",
       "Name: Weather_Condition, dtype: int64"
      ]
     },
     "execution_count": 32,
     "metadata": {},
     "output_type": "execute_result"
    }
   ],
   "source": [
    "pd.set_option('display.max_rows', None)\n",
    "df['Weather_Condition'].value_counts()"
   ]
  },
  {
   "cell_type": "code",
   "execution_count": 33,
   "metadata": {},
   "outputs": [],
   "source": [
    "df['Clear'] = np.where(df['Weather_Condition'].str.contains('Clear', case=False, na = False), True, False)\n",
    "\n",
    "df['Cloud'] = np.where(df['Weather_Condition'].str.contains('Cloud|Overcast', case=False, na = False), True, False)\n",
    "\n",
    "df['Rain'] = np.where(df['Weather_Condition'].str.contains('Rain|storm|shower|drizzle', case=False, na = False), True, False)\n",
    "\n",
    "df['Heavy_Rain'] = np.where(df['Weather_Condition'].str.contains('Heavy Rain|Rain Shower|Heavy T-Storm|Heavy Thunderstorms', case=False, na = False), True, False)\n",
    "\n",
    "df['Snow'] = np.where(df['Weather_Condition'].str.contains('Snow|Sleet|Ice', case=False, na = False), True, False)\n",
    "\n",
    "df['Heavy_Snow'] = np.where(df['Weather_Condition'].str.contains('Heavy Snow|Heavy Sleet|Heavy Ice Pellets|Snow Showers|Squalls', case=False, na = False), True, False)\n",
    "\n",
    "df['Fog'] = np.where(df['Weather_Condition'].str.contains('Fog|haze', case=False, na = False), True, False)\n",
    "\n",
    "df['Windy'] = np.where(df['Weather_Condition'].str.contains('wind|dust', case=False, na = False), True, False)"
   ]
  },
  {
   "cell_type": "code",
   "execution_count": 34,
   "metadata": {},
   "outputs": [
    {
     "data": {
      "text/plain": [
       "Series([], dtype: float64)"
      ]
     },
     "execution_count": 34,
     "metadata": {},
     "output_type": "execute_result"
    }
   ],
   "source": [
    "total = df.isna().sum().sort_values(ascending=False)\n",
    "missing_data = total / len(df)\n",
    "missing_data = missing_data[missing_data>0]\n",
    "missing_data"
   ]
  },
  {
   "cell_type": "markdown",
   "metadata": {},
   "source": [
    "## Exploratory Data Analysis"
   ]
  },
  {
   "cell_type": "markdown",
   "metadata": {},
   "source": [
    "### Univariate Analysis"
   ]
  },
  {
   "cell_type": "code",
   "execution_count": 35,
   "metadata": {},
   "outputs": [
    {
     "data": {
      "text/plain": [
       "<AxesSubplot:xlabel='Severity', ylabel='count'>"
      ]
     },
     "execution_count": 35,
     "metadata": {},
     "output_type": "execute_result"
    },
    {
     "data": {
      "image/png": "[encoded data removed]",
      "text/plain": [
       "<Figure size 432x288 with 1 Axes>"
      ]
     },
     "metadata": {
      "needs_background": "light"
     },
     "output_type": "display_data"
    }
   ],
   "source": [
    "plt.ticklabel_format(style='plain', axis='y')\n",
    "sns.countplot(x='Severity', data=df)"
   ]
  },
  {
   "cell_type": "code",
   "execution_count": 36,
   "metadata": {},
   "outputs": [
    {
     "data": {
      "text/plain": [
       "2    2068517\n",
       "3     611938\n",
       "4     114799\n",
       "1      28182\n",
       "Name: Severity, dtype: int64"
      ]
     },
     "execution_count": 36,
     "metadata": {},
     "output_type": "execute_result"
    }
   ],
   "source": [
    "df.Severity.value_counts()"
   ]
  },
  {
   "cell_type": "markdown",
   "metadata": {},
   "source": [
    "##### *Analyzing POI Features*"
   ]
  },
  {
   "cell_type": "markdown",
   "metadata": {},
   "source": [
    "POI(Point Of Interest) refers to any public service/place that happens to be near the accident location"
   ]
  },
  {
   "cell_type": "code",
   "execution_count": 37,
   "metadata": {},
   "outputs": [
    {
     "data": {
      "text/plain": [
       "['Amenity',\n",
       " 'Bump',\n",
       " 'Crossing',\n",
       " 'Give_Way',\n",
       " 'Junction',\n",
       " 'No_Exit',\n",
       " 'Railway',\n",
       " 'Roundabout',\n",
       " 'Station',\n",
       " 'Stop',\n",
       " 'Traffic_Calming',\n",
       " 'Traffic_Signal',\n",
       " 'Turning_Loop']"
      ]
     },
     "execution_count": 37,
     "metadata": {},
     "output_type": "execute_result"
    }
   ],
   "source": [
    "poi_features = ['Amenity','Bump','Crossing','Give_Way','Junction','No_Exit','Railway','Roundabout','Station','Stop',\n",
    "                'Traffic_Calming','Traffic_Signal','Turning_Loop']\n",
    "poi_features"
   ]
  },
  {
   "cell_type": "code",
   "execution_count": 38,
   "metadata": {},
   "outputs": [
    {
     "data": {
      "text/plain": [
       "<AxesSubplot:xlabel='Bump', ylabel='count'>"
      ]
     },
     "execution_count": 38,
     "metadata": {},
     "output_type": "execute_result"
    },
    {
     "data": {
      "image/png": "[encoded data removed]",
      "text/plain": [
       "<Figure size 648x288 with 2 Axes>"
      ]
     },
     "metadata": {
      "needs_background": "light"
     },
     "output_type": "display_data"
    }
   ],
   "source": [
    "f, axes = plt.subplots(1, 2, figsize=(9, 4))\n",
    "\n",
    "sns.countplot(x='Amenity', data=df, ax=axes[0], palette='Blues_d')\n",
    "\n",
    "sns.countplot(x='Bump', data=df, ax=axes[1], palette='Blues_d')"
   ]
  },
  {
   "cell_type": "code",
   "execution_count": 39,
   "metadata": {},
   "outputs": [
    {
     "data": {
      "text/plain": [
       "<AxesSubplot:xlabel='Give_Way', ylabel='count'>"
      ]
     },
     "execution_count": 39,
     "metadata": {},
     "output_type": "execute_result"
    },
    {
     "data": {
      "image/png": "[encoded data removed]",
      "text/plain": [
       "<Figure size 648x288 with 2 Axes>"
      ]
     },
     "metadata": {
      "needs_background": "light"
     },
     "output_type": "display_data"
    }
   ],
   "source": [
    "f, axes = plt.subplots(1, 2, figsize=(9, 4))\n",
    "\n",
    "sns.countplot(x='Crossing', data=df, ax=axes[0], palette='Blues_d')\n",
    "\n",
    "sns.countplot(x='Give_Way', data=df, ax=axes[1], palette='Blues_d')"
   ]
  },
  {
   "cell_type": "code",
   "execution_count": 40,
   "metadata": {},
   "outputs": [
    {
     "data": {
      "text/plain": [
       "<AxesSubplot:xlabel='No_Exit', ylabel='count'>"
      ]
     },
     "execution_count": 40,
     "metadata": {},
     "output_type": "execute_result"
    },
    {
     "data": {
      "image/png": "[encoded data removed]",
      "text/plain": [
       "<Figure size 648x288 with 2 Axes>"
      ]
     },
     "metadata": {
      "needs_background": "light"
     },
     "output_type": "display_data"
    }
   ],
   "source": [
    "f, axes = plt.subplots(1, 2, figsize=(9, 4))\n",
    "\n",
    "sns.countplot(x='Junction', data=df, ax=axes[0], palette='Blues_d')\n",
    "\n",
    "sns.countplot(x='No_Exit', data=df, ax=axes[1], palette='Blues_d')"
   ]
  },
  {
   "cell_type": "code",
   "execution_count": 41,
   "metadata": {},
   "outputs": [
    {
     "data": {
      "text/plain": [
       "<AxesSubplot:xlabel='Roundabout', ylabel='count'>"
      ]
     },
     "execution_count": 41,
     "metadata": {},
     "output_type": "execute_result"
    },
    {
     "data": {
      "image/png": "[encoded data removed]",
      "text/plain": [
       "<Figure size 648x288 with 2 Axes>"
      ]
     },
     "metadata": {
      "needs_background": "light"
     },
     "output_type": "display_data"
    }
   ],
   "source": [
    "f, axes = plt.subplots(1, 2, figsize=(9, 4))\n",
    "\n",
    "sns.countplot(x='Railway', data=df, ax=axes[0], palette='Blues_d')\n",
    "\n",
    "sns.countplot(x='Roundabout', data=df, ax=axes[1], palette='Blues_d')"
   ]
  },
  {
   "cell_type": "code",
   "execution_count": 42,
   "metadata": {},
   "outputs": [
    {
     "data": {
      "text/plain": [
       "<AxesSubplot:xlabel='Stop', ylabel='count'>"
      ]
     },
     "execution_count": 42,
     "metadata": {},
     "output_type": "execute_result"
    },
    {
     "data": {
      "image/png": "[encoded data removed]",
      "text/plain": [
       "<Figure size 648x288 with 2 Axes>"
      ]
     },
     "metadata": {
      "needs_background": "light"
     },
     "output_type": "display_data"
    }
   ],
   "source": [
    "f, axes = plt.subplots(1, 2, figsize=(9, 4))\n",
    "\n",
    "sns.countplot(x='Station', data=df, ax=axes[0], palette='Blues_d')\n",
    "\n",
    "sns.countplot(x='Stop', data=df, ax=axes[1], palette='Blues_d')\n"
   ]
  },
  {
   "cell_type": "code",
   "execution_count": 43,
   "metadata": {},
   "outputs": [
    {
     "data": {
      "text/plain": [
       "<AxesSubplot:xlabel='Traffic_Signal', ylabel='count'>"
      ]
     },
     "execution_count": 43,
     "metadata": {},
     "output_type": "execute_result"
    },
    {
     "data": {
      "image/png": "[encoded data removed]",
      "text/plain": [
       "<Figure size 648x288 with 2 Axes>"
      ]
     },
     "metadata": {
      "needs_background": "light"
     },
     "output_type": "display_data"
    }
   ],
   "source": [
    "f, axes = plt.subplots(1, 2, figsize=(9, 4))\n",
    "\n",
    "sns.countplot(x='Traffic_Calming', data=df, ax=axes[0], palette='Blues_d')\n",
    "\n",
    "sns.countplot(x='Traffic_Signal', data=df, ax=axes[1], palette='Blues_d')\n"
   ]
  },
  {
   "cell_type": "code",
   "execution_count": 44,
   "metadata": {},
   "outputs": [
    {
     "data": {
      "text/plain": [
       "<AxesSubplot:xlabel='Turning_Loop', ylabel='count'>"
      ]
     },
     "execution_count": 44,
     "metadata": {},
     "output_type": "execute_result"
    },
    {
     "data": {
      "image/png": "[encoded data removed]",
      "text/plain": [
       "<Figure size 360x288 with 1 Axes>"
      ]
     },
     "metadata": {
      "needs_background": "light"
     },
     "output_type": "display_data"
    }
   ],
   "source": [
    "f, axes = plt.subplots(1, 1, figsize=(5, 4))\n",
    "\n",
    "sns.countplot(x='Turning_Loop', data=df, ax=axes, palette='Blues_d')"
   ]
  },
  {
   "cell_type": "code",
   "execution_count": 45,
   "metadata": {},
   "outputs": [],
   "source": [
    "# Dropping POI features that have no impact on the occurance of an accident\n",
    "\n",
    "df = df.drop(['Amenity','Bump','Give_Way','No_Exit','Railway','Roundabout','Station','Stop','Traffic_Calming','Turning_Loop'],axis=1)"
   ]
  },
  {
   "cell_type": "markdown",
   "metadata": {},
   "source": [
    "##### *Analyzing datetime features*"
   ]
  },
  {
   "cell_type": "code",
   "execution_count": 46,
   "metadata": {},
   "outputs": [
    {
     "data": {
      "text/plain": [
       "<AxesSubplot:xlabel='Year', ylabel='count'>"
      ]
     },
     "execution_count": 46,
     "metadata": {},
     "output_type": "execute_result"
    },
    {
     "data": {
      "image/png": "[encoded data removed]",
      "text/plain": [
       "<Figure size 432x288 with 1 Axes>"
      ]
     },
     "metadata": {
      "needs_background": "light"
     },
     "output_type": "display_data"
    }
   ],
   "source": [
    "# Accidents per year\n",
    "\n",
    "plt.ticklabel_format(style='plain', axis='y')\n",
    "\n",
    "sns.countplot(data=df,x=df['Year'])"
   ]
  },
  {
   "cell_type": "markdown",
   "metadata": {},
   "source": [
    "The increase in accidents year-on-year cannot be so significant, considering the fact that there has to be a decrease in accidents due to covid-19 lockdowns. \n",
    "It seems a low number of accidents were recorded in the previous years."
   ]
  },
  {
   "cell_type": "code",
   "execution_count": 47,
   "metadata": {},
   "outputs": [
    {
     "data": {
      "text/plain": [
       "<AxesSubplot:xlabel='Month', ylabel='count'>"
      ]
     },
     "execution_count": 47,
     "metadata": {},
     "output_type": "execute_result"
    },
    {
     "data": {
      "image/png": "[encoded data removed]",
      "text/plain": [
       "<Figure size 432x288 with 1 Axes>"
      ]
     },
     "metadata": {
      "needs_background": "light"
     },
     "output_type": "display_data"
    }
   ],
   "source": [
    "# Analysing the monthly distribution of data\n",
    "\n",
    "sns.countplot(data=df,x=df['Month'])"
   ]
  },
  {
   "cell_type": "markdown",
   "metadata": {},
   "source": [
    "There seems to be a significant increase in the number of accidents during winter."
   ]
  },
  {
   "cell_type": "code",
   "execution_count": 48,
   "metadata": {},
   "outputs": [
    {
     "data": {
      "text/plain": [
       "<AxesSubplot:xlabel='Weekday', ylabel='count'>"
      ]
     },
     "execution_count": 48,
     "metadata": {},
     "output_type": "execute_result"
    },
    {
     "data": {
      "image/png": "[encoded data removed]",
      "text/plain": [
       "<Figure size 432x288 with 1 Axes>"
      ]
     },
     "metadata": {
      "needs_background": "light"
     },
     "output_type": "display_data"
    }
   ],
   "source": [
    "# Analysing the data by days of the week\n",
    "\n",
    "sns.countplot(data=df,x=df['Weekday'],\n",
    "             order=['Monday','Tuesday','Wednesday','Thursday','Friday','Saturday','Sunday'])"
   ]
  },
  {
   "cell_type": "markdown",
   "metadata": {},
   "source": [
    "There is a significant drop in the number of accidents on weekends, which may indicate that most of the accidents happen when people travel to or from their work locations."
   ]
  },
  {
   "cell_type": "code",
   "execution_count": 49,
   "metadata": {},
   "outputs": [
    {
     "data": {
      "text/plain": [
       "<AxesSubplot:xlabel='Hour', ylabel='count'>"
      ]
     },
     "execution_count": 49,
     "metadata": {},
     "output_type": "execute_result"
    },
    {
     "data": {
      "image/png": "[encoded data removed]",
      "text/plain": [
       "<Figure size 432x288 with 1 Axes>"
      ]
     },
     "metadata": {
      "needs_background": "light"
     },
     "output_type": "display_data"
    }
   ],
   "source": [
    "# Analysing the data by hour of the day\n",
    "\n",
    "sns.countplot(data=df,x=df['Hour'])"
   ]
  },
  {
   "cell_type": "markdown",
   "metadata": {},
   "source": [
    "It seems there is a clear relation to number of accidents and the time of the day when people are travelling."
   ]
  },
  {
   "cell_type": "code",
   "execution_count": 50,
   "metadata": {},
   "outputs": [
    {
     "data": {
      "text/plain": [
       "<AxesSubplot:xlabel='Astronomical_Twilight', ylabel='count'>"
      ]
     },
     "execution_count": 50,
     "metadata": {},
     "output_type": "execute_result"
    },
    {
     "data": {
      "image/png": "[encoded data removed]",
      "text/plain": [
       "<Figure size 864x576 with 4 Axes>"
      ]
     },
     "metadata": {
      "needs_background": "light"
     },
     "output_type": "display_data"
    }
   ],
   "source": [
    "# Period of day attributes\n",
    "\n",
    "f, axes = plt.subplots(2, 2, figsize=(12, 8))\n",
    "\n",
    "sns.countplot(x='Sunrise_Sunset', data=df, ax=axes[0, 0], palette='Blues_d')\n",
    "\n",
    "sns.countplot(x='Civil_Twilight', data=df, ax=axes[0, 1], palette='Blues_d')\n",
    "\n",
    "sns.countplot(x='Nautical_Twilight', data=df, ax=axes[1, 0], palette='Blues_d')\n",
    "\n",
    "sns.countplot(x='Astronomical_Twilight', data=df, ax=axes[1, 1], palette='Blues_d')"
   ]
  },
  {
   "cell_type": "code",
   "execution_count": 51,
   "metadata": {},
   "outputs": [
    {
     "data": {
      "text/plain": [
       "<AxesSubplot:xlabel='State', ylabel='count'>"
      ]
     },
     "execution_count": 51,
     "metadata": {},
     "output_type": "execute_result"
    },
    {
     "data": {
      "image/png": "[encoded data removed]",
      "text/plain": [
       "<Figure size 1152x360 with 1 Axes>"
      ]
     },
     "metadata": {
      "needs_background": "light"
     },
     "output_type": "display_data"
    }
   ],
   "source": [
    "# Analysing the accidents by state\n",
    "\n",
    "fig = plt.figure(figsize = (16,5))\n",
    "\n",
    "sns.countplot(data=df,x='State',\n",
    "             order=df['State'].value_counts().index)"
   ]
  },
  {
   "cell_type": "markdown",
   "metadata": {},
   "source": [
    "##### *Analysing the weather features*"
   ]
  },
  {
   "cell_type": "code",
   "execution_count": 52,
   "metadata": {},
   "outputs": [
    {
     "data": {
      "text/plain": [
       "<AxesSubplot:xlabel='Temperature(F)', ylabel='Count'>"
      ]
     },
     "execution_count": 52,
     "metadata": {},
     "output_type": "execute_result"
    },
    {
     "data": {
      "image/png": "[encoded data removed]",
      "text/plain": [
       "<Figure size 432x288 with 1 Axes>"
      ]
     },
     "metadata": {
      "needs_background": "light"
     },
     "output_type": "display_data"
    }
   ],
   "source": [
    "sns.histplot(data=df,x='Temperature(F)')"
   ]
  },
  {
   "cell_type": "code",
   "execution_count": 53,
   "metadata": {},
   "outputs": [
    {
     "data": {
      "text/plain": [
       "<AxesSubplot:xlabel='Humidity(%)', ylabel='Count'>"
      ]
     },
     "execution_count": 53,
     "metadata": {},
     "output_type": "execute_result"
    },
    {
     "data": {
      "image/png": "[encoded data removed]",
      "text/plain": [
       "<Figure size 432x288 with 1 Axes>"
      ]
     },
     "metadata": {
      "needs_background": "light"
     },
     "output_type": "display_data"
    }
   ],
   "source": [
    "sns.histplot(data=df,x='Humidity(%)')"
   ]
  },
  {
   "cell_type": "markdown",
   "metadata": {},
   "source": [
    "There seems to be a linear relation of an accident happening with humidity."
   ]
  },
  {
   "cell_type": "code",
   "execution_count": 54,
   "metadata": {},
   "outputs": [
    {
     "name": "stderr",
     "output_type": "stream",
     "text": [
      "C:\\Users\\devde\\anaconda3\\lib\\site-packages\\seaborn\\distributions.py:2551: FutureWarning: `distplot` is a deprecated function and will be removed in a future version. Please adapt your code to use either `displot` (a figure-level function with similar flexibility) or `histplot` (an axes-level function for histograms).\n",
      "  warnings.warn(msg, FutureWarning)\n"
     ]
    },
    {
     "data": {
      "text/plain": [
       "<AxesSubplot:ylabel='Density'>"
      ]
     },
     "execution_count": 54,
     "metadata": {},
     "output_type": "execute_result"
    },
    {
     "data": {
      "image/png": "[encoded data removed]",
      "text/plain": [
       "<Figure size 432x288 with 1 Axes>"
      ]
     },
     "metadata": {
      "needs_background": "light"
     },
     "output_type": "display_data"
    }
   ],
   "source": [
    "sns.distplot(x=df['Wind_Speed(mph)'])"
   ]
  },
  {
   "cell_type": "code",
   "execution_count": 55,
   "metadata": {},
   "outputs": [
    {
     "data": {
      "text/plain": [
       "<AxesSubplot:xlabel='Wind_Direction', ylabel='count'>"
      ]
     },
     "execution_count": 55,
     "metadata": {},
     "output_type": "execute_result"
    },
    {
     "data": {
      "image/png": "[encoded data removed]",
      "text/plain": [
       "<Figure size 432x288 with 1 Axes>"
      ]
     },
     "metadata": {
      "needs_background": "light"
     },
     "output_type": "display_data"
    }
   ],
   "source": [
    "sns.countplot(data=df,x='Wind_Direction')"
   ]
  },
  {
   "cell_type": "markdown",
   "metadata": {},
   "source": [
    "Univariate analysis of the weather features does not give us any more clearer picture of the data.\n",
    "\n",
    "We will now look at the data based on the level of severity of the accident."
   ]
  },
  {
   "cell_type": "markdown",
   "metadata": {},
   "source": [
    "### Bivariate Analysis"
   ]
  },
  {
   "cell_type": "code",
   "execution_count": 56,
   "metadata": {},
   "outputs": [
    {
     "data": {
      "text/plain": [
       "<AxesSubplot:xlabel='count', ylabel='Month'>"
      ]
     },
     "execution_count": 56,
     "metadata": {},
     "output_type": "execute_result"
    },
    {
     "data": {
      "image/png": "[encoded data removed]",
      "text/plain": [
       "<Figure size 1152x432 with 1 Axes>"
      ]
     },
     "metadata": {
      "needs_background": "light"
     },
     "output_type": "display_data"
    }
   ],
   "source": [
    "# 'Month' & 'Severity'\n",
    "\n",
    "fig = plt.figure(figsize = (16, 6))\n",
    "sns.countplot(y=\"Month\", data=df, hue='Severity')"
   ]
  },
  {
   "cell_type": "code",
   "execution_count": 57,
   "metadata": {},
   "outputs": [
    {
     "data": {
      "text/plain": [
       "<AxesSubplot:xlabel='count', ylabel='Weekday'>"
      ]
     },
     "execution_count": 57,
     "metadata": {},
     "output_type": "execute_result"
    },
    {
     "data": {
      "image/png": "[encoded data removed]",
      "text/plain": [
       "<Figure size 1152x432 with 1 Axes>"
      ]
     },
     "metadata": {
      "needs_background": "light"
     },
     "output_type": "display_data"
    }
   ],
   "source": [
    "# 'Weekday' & 'Severity'\n",
    "\n",
    "fig = plt.figure(figsize = (16, 6))\n",
    "sns.countplot(y=\"Weekday\", data=df, hue='Severity',\n",
    "             order=['Monday','Tuesday','Wednesday','Thursday','Friday','Saturday','Sunday'])"
   ]
  },
  {
   "cell_type": "code",
   "execution_count": 58,
   "metadata": {},
   "outputs": [
    {
     "data": {
      "text/plain": [
       "<AxesSubplot:xlabel='State', ylabel='count'>"
      ]
     },
     "execution_count": 58,
     "metadata": {},
     "output_type": "execute_result"
    },
    {
     "data": {
      "image/png": "[encoded data removed]",
      "text/plain": [
       "<Figure size 1152x576 with 1 Axes>"
      ]
     },
     "metadata": {
      "needs_background": "light"
     },
     "output_type": "display_data"
    }
   ],
   "source": [
    "# 'State' & 'Severity'\n",
    "\n",
    "fig = plt.figure(figsize = (16, 8))\n",
    "sns.countplot(x=\"State\", data=df, order=df['State'].value_counts().index, hue='Severity')"
   ]
  },
  {
   "cell_type": "code",
   "execution_count": 59,
   "metadata": {},
   "outputs": [
    {
     "data": {
      "text/plain": [
       "<AxesSubplot:xlabel='Wind_Speed(mph)', ylabel='Severity'>"
      ]
     },
     "execution_count": 59,
     "metadata": {},
     "output_type": "execute_result"
    },
    {
     "data": {
      "image/png": "[encoded data removed]",
      "text/plain": [
       "<Figure size 1152x864 with 4 Axes>"
      ]
     },
     "metadata": {
      "needs_background": "light"
     },
     "output_type": "display_data"
    }
   ],
   "source": [
    "f, axes = plt.subplots(2, 2, figsize=(16, 12))\n",
    "\n",
    "# Analysing the impact of 'Temperature(F)' on 'Severity'\n",
    "df.plot.scatter(x='Temperature(F)', y='Severity', ax=axes[0, 0])\n",
    "\n",
    "# Analysing the impact of 'Humidity(%)' on 'Severity'\n",
    "df.plot.scatter(x='Humidity(%)', y='Severity', ax=axes[0, 1])\n",
    "\n",
    "# Analysing the impact of 'Pressure(in)' on 'Severity'\n",
    "df.plot.scatter(x='Pressure(in)', y='Severity', ax=axes[1, 0])\n",
    "\n",
    "# Analysing the impact of 'Wind_Speed(mph)' on 'Severity'\n",
    "df.plot.scatter(x='Wind_Speed(mph)', y='Severity', ax=axes[1, 1])"
   ]
  },
  {
   "cell_type": "code",
   "execution_count": 60,
   "metadata": {},
   "outputs": [],
   "source": [
    "# There are very few instances when wind speed reaches over 200, that too in case of a hurricane or tornado.\n",
    "# Removing records that have wind speed over 200\n",
    "\n",
    "df.drop(df[df['Wind_Speed(mph)'] > 200].index, inplace = True)"
   ]
  },
  {
   "cell_type": "code",
   "execution_count": 61,
   "metadata": {},
   "outputs": [
    {
     "data": {
      "text/plain": [
       "<AxesSubplot:xlabel='Visibility(mi)', ylabel='Severity'>"
      ]
     },
     "execution_count": 61,
     "metadata": {},
     "output_type": "execute_result"
    },
    {
     "data": {
      "image/png": "[encoded data removed]",
      "text/plain": [
       "<Figure size 432x288 with 1 Axes>"
      ]
     },
     "metadata": {
      "needs_background": "light"
     },
     "output_type": "display_data"
    }
   ],
   "source": [
    "df.plot.scatter(x='Visibility(mi)', y='Severity')"
   ]
  },
  {
   "cell_type": "code",
   "execution_count": 62,
   "metadata": {},
   "outputs": [],
   "source": [
    "# As seen from the analysis, we drop columns that do not have any effect on an accident.\n",
    "\n",
    "df.drop(['Visibility(mi)','Duration','Wind_Direction','Pressure(in)','Humidity(%)','Weather_Timestamp','Distance(mi)'],axis=1,inplace=True)"
   ]
  },
  {
   "cell_type": "code",
   "execution_count": 63,
   "metadata": {},
   "outputs": [],
   "source": [
    "# As seen above there is no relation between 'Period-of-Day' and an accident happening\n",
    "\n",
    "df.drop(['Sunrise_Sunset','Civil_Twilight','Nautical_Twilight','Astronomical_Twilight'],axis=1,inplace=True)"
   ]
  },
  {
   "cell_type": "markdown",
   "metadata": {},
   "source": [
    "### Multivariate Analysis"
   ]
  },
  {
   "cell_type": "code",
   "execution_count": 64,
   "metadata": {},
   "outputs": [
    {
     "data": {
      "text/plain": [
       "<AxesSubplot:>"
      ]
     },
     "execution_count": 64,
     "metadata": {},
     "output_type": "execute_result"
    },
    {
     "data": {
      "image/png": "[encoded data removed]",
      "text/plain": [
       "<Figure size 1440x720 with 2 Axes>"
      ]
     },
     "metadata": {
      "needs_background": "light"
     },
     "output_type": "display_data"
    }
   ],
   "source": [
    "plt.figure(figsize=(20,10))\n",
    "sns.heatmap(df.corr(), annot=True)"
   ]
  },
  {
   "cell_type": "markdown",
   "metadata": {},
   "source": [
    "\n",
    "\n",
    "## Model Building"
   ]
  },
  {
   "cell_type": "code",
   "execution_count": 77,
   "metadata": {},
   "outputs": [
    {
     "data": {
      "text/plain": [
       "2    2068505\n",
       "3     611934\n",
       "4     114797\n",
       "1      28182\n",
       "Name: Severity, dtype: int64"
      ]
     },
     "execution_count": 77,
     "metadata": {},
     "output_type": "execute_result"
    }
   ],
   "source": [
    "df.Severity.value_counts()"
   ]
  },
  {
   "cell_type": "code",
   "execution_count": 78,
   "metadata": {},
   "outputs": [],
   "source": [
    "# Since the original dataset is highly imbalanced  for severity, let us create a balanced training dataset\n",
    "\n",
    "df_s1 = df.loc[df['Severity']==1]\n",
    "df_s2 = df.loc[df['Severity']==2]\n",
    "df_s3 = df.loc[df['Severity']==3]\n",
    "df_s4 = df.loc[df['Severity']==4]"
   ]
  },
  {
   "cell_type": "code",
   "execution_count": 79,
   "metadata": {},
   "outputs": [
    {
     "data": {
      "text/plain": [
       "Severity\n",
       "1    25000\n",
       "2    25000\n",
       "3    25000\n",
       "4    25000\n",
       "Name: Severity, dtype: int64"
      ]
     },
     "execution_count": 79,
     "metadata": {},
     "output_type": "execute_result"
    }
   ],
   "source": [
    "count = 25000\n",
    "\n",
    "df_s1 = resample(df_s1, replace=df_s1.count()[0]<count, n_samples=count, random_state=42)\n",
    "df_s2 = resample(df_s2, replace=df_s2.count()[0]<count, n_samples=count, random_state=42)\n",
    "df_s3 = resample(df_s3, replace=df_s3.count()[0]<count, n_samples=count, random_state=42)\n",
    "df_s4 = resample(df_s4, replace=df_s4.count()[0]<count, n_samples=count, random_state=42)\n",
    " \n",
    "new_df = pd.concat([df_s1, df_s2, df_s3, df_s4])\n",
    " \n",
    "# Display Severity counts\n",
    "new_df.groupby(by='Severity')['Severity'].count()"
   ]
  },
  {
   "cell_type": "code",
   "execution_count": 80,
   "metadata": {},
   "outputs": [],
   "source": [
    "# Target variable for prediction\n",
    "target = 'Severity'\n",
    "\n",
    "X = new_df.drop(target,axis=1)\n",
    "y = new_df[target]"
   ]
  },
  {
   "cell_type": "code",
   "execution_count": 81,
   "metadata": {},
   "outputs": [],
   "source": [
    "cols = new_df.select_dtypes(include='object').columns\n",
    "\n",
    "# Applying Ordinal Encoding on the data\n",
    "encoder = OrdinalEncoder()\n",
    "X[cols] = encoder.fit_transform(X[cols])\n",
    "\n",
    "X_train, X_test, y_train, y_test = train_test_split(X, y, test_size=0.3, stratify=y, random_state=42)\n",
    "\n",
    "\n",
    "# Scaling the Train and Test Dataset\n",
    "scaler = StandardScaler()\n",
    "\n",
    "# Scaling Train Dataset\n",
    "scaler = scaler.fit(X_train)\n",
    "X_train = scaler.transform(X_train)\n",
    "\n",
    "# Scaling Test Dataset\n",
    "scaler = scaler.fit(X_test)\n",
    "X_test = scaler.transform(X_test)"
   ]
  },
  {
   "cell_type": "markdown",
   "metadata": {},
   "source": [
    "##### XGBoost"
   ]
  },
  {
   "cell_type": "code",
   "execution_count": 82,
   "metadata": {},
   "outputs": [
    {
     "name": "stderr",
     "output_type": "stream",
     "text": [
      "C:\\Users\\devde\\anaconda3\\lib\\site-packages\\xgboost\\sklearn.py:1146: UserWarning: The use of label encoder in XGBClassifier is deprecated and will be removed in a future release. To remove this warning, do the following: 1) Pass option use_label_encoder=False when constructing XGBClassifier object; and 2) Encode your labels (y) as integers starting with 0, i.e. 0, 1, 2, ..., [num_class - 1].\n",
      "  warnings.warn(label_encoder_deprecation_msg, UserWarning)\n"
     ]
    },
    {
     "name": "stdout",
     "output_type": "stream",
     "text": [
      "[20:49:01] WARNING: C:/Users/Administrator/workspace/xgboost-win64_release_1.4.0/src/learner.cc:1095: Starting in XGBoost 1.3.0, the default evaluation metric used with the objective 'multi:softprob' was changed from 'merror' to 'mlogloss'. Explicitly set eval_metric if you'd like to restore the old behavior.\n",
      "XGBClassifier accuracy_score: 0.734.\n"
     ]
    }
   ],
   "source": [
    "# Make an object of class XGBClassifier()\n",
    "\n",
    "clf = XGBClassifier()\n",
    "\n",
    "# Train & Test\n",
    "clf.fit(X_train, y_train)\n",
    "y_pred = clf.predict(X_test)\n",
    "\n",
    "# Model Accuracy\n",
    "print(\"XGBClassifier accuracy_score: {:.3f}.\".format(accuracy_score(y_test, y_pred)))"
   ]
  },
  {
   "cell_type": "code",
   "execution_count": 83,
   "metadata": {},
   "outputs": [
    {
     "name": "stderr",
     "output_type": "stream",
     "text": [
      "C:\\Users\\devde\\anaconda3\\lib\\site-packages\\xgboost\\sklearn.py:1146: UserWarning: The use of label encoder in XGBClassifier is deprecated and will be removed in a future release. To remove this warning, do the following: 1) Pass option use_label_encoder=False when constructing XGBClassifier object; and 2) Encode your labels (y) as integers starting with 0, i.e. 0, 1, 2, ..., [num_class - 1].\n",
      "  warnings.warn(label_encoder_deprecation_msg, UserWarning)\n"
     ]
    },
    {
     "name": "stdout",
     "output_type": "stream",
     "text": [
      "[20:59:57] WARNING: C:/Users/Administrator/workspace/xgboost-win64_release_1.4.0/src/learner.cc:1095: Starting in XGBoost 1.3.0, the default evaluation metric used with the objective 'multi:softprob' was changed from 'merror' to 'mlogloss'. Explicitly set eval_metric if you'd like to restore the old behavior.\n",
      "{'max_depth': 9, 'min_child_weight': 3}\n"
     ]
    }
   ],
   "source": [
    "# Using GridSearchCV to find optimal parameters\n",
    "\n",
    "param_grid = {\n",
    " 'max_depth':range(3,10,2),\n",
    " 'min_child_weight':range(1,6,2)\n",
    "}\n",
    "\n",
    "grid_search = GridSearchCV(estimator = XGBClassifier( learning_rate =0.1, n_estimators=100, subsample=0.7, \n",
    "                                                     colsample_bytree=0.7, objective= 'multi:softmax', seed=42), \n",
    "                             param_grid = param_grid, n_jobs=4, cv=5)\n",
    "\n",
    "grid_search.fit(X_train, y_train)\n",
    "\n",
    "print(grid_search.best_params_)"
   ]
  },
  {
   "cell_type": "code",
   "execution_count": 84,
   "metadata": {},
   "outputs": [
    {
     "name": "stdout",
     "output_type": "stream",
     "text": [
      "[21:00:28] WARNING: C:/Users/Administrator/workspace/xgboost-win64_release_1.4.0/src/learner.cc:1095: Starting in XGBoost 1.3.0, the default evaluation metric used with the objective 'multi:softprob' was changed from 'merror' to 'mlogloss'. Explicitly set eval_metric if you'd like to restore the old behavior.\n",
      "              precision    recall  f1-score   support\n",
      "\n",
      "           1       0.89      0.96      0.92      7500\n",
      "           2       0.70      0.67      0.68      7500\n",
      "           3       0.63      0.67      0.65      7500\n",
      "           4       0.73      0.66      0.70      7500\n",
      "\n",
      "    accuracy                           0.74     30000\n",
      "   macro avg       0.74      0.74      0.74     30000\n",
      "weighted avg       0.74      0.74      0.74     30000\n",
      "\n",
      "Accuracy for the train dataset 92.7%\n",
      "Accuracy for the test dataset 73.8%\n"
     ]
    }
   ],
   "source": [
    "# XGBClassifier | Final \n",
    "\n",
    "# Create a XGBClassifier Classifier\n",
    "\n",
    "clf=XGBClassifier(**grid_search.best_params_ , random_state=42)\n",
    "\n",
    "# Train & Test\n",
    "clf.fit(X_train, y_train)\n",
    "y_train_pred= clf.predict(X_train)\n",
    "y_test_pred= clf.predict(X_test)\n",
    "\n",
    "# Model Accuracy, how often is the classifier correct?\n",
    "# Detailed report of classification done by model\n",
    "\n",
    "train_accuracy, test_accuracy = accuracy_score(y_train, y_train_pred), accuracy_score(y_test, y_test_pred)\n",
    "print(classification_report(y_test, y_test_pred))\n",
    "print(f'Accuracy for the train dataset {train_accuracy:.1%}')\n",
    "print(f'Accuracy for the test dataset {test_accuracy:.1%}')"
   ]
  },
  {
   "cell_type": "code",
   "execution_count": 85,
   "metadata": {},
   "outputs": [],
   "source": [
    "# storing the accuracy score\n",
    "xgb_train_result = round(train_accuracy*100, 1)\n",
    "xgb_test_result = round(test_accuracy*100,1)"
   ]
  },
  {
   "cell_type": "markdown",
   "metadata": {},
   "source": [
    "##### Support Vector Machine"
   ]
  },
  {
   "cell_type": "code",
   "execution_count": 86,
   "metadata": {},
   "outputs": [
    {
     "name": "stdout",
     "output_type": "stream",
     "text": [
      "Support Vector Machine accuracy_score: 0.659.\n"
     ]
    }
   ],
   "source": [
    "# Make an object of class SVC()\n",
    "\n",
    "clf = SVC()\n",
    "\n",
    "# Train & Test\n",
    "clf.fit(X_train, y_train)\n",
    "y_pred = clf.predict(X_test)\n",
    "\n",
    "# Model Accuracy\n",
    "print(\"Support Vector Machine accuracy_score: {:.3f}.\".format(accuracy_score(y_test, y_pred)))"
   ]
  },
  {
   "cell_type": "code",
   "execution_count": null,
   "metadata": {},
   "outputs": [],
   "source": [
    "# Using GridSearchCV to find optimal parameters\n",
    "\n",
    "param_grid = {\n",
    "    'C': [0.1, 0.5, 1],\n",
    "    'gamma': ['auto', 'scale']\n",
    "}\n",
    "\n",
    "grid_search = GridSearchCV(cv=5, estimator = clf, param_grid = param_grid, scoring='balanced_accuracy')\n",
    "\n",
    "grid_search.fit(X_train, y_train)\n",
    "\n",
    "print(grid_search.best_params_)"
   ]
  },
  {
   "cell_type": "code",
   "execution_count": null,
   "metadata": {},
   "outputs": [],
   "source": [
    "# Support Vector Machine | Final \n",
    "\n",
    "# Create a SVM Classifier\n",
    "\n",
    "clf=SVC(**grid_search.best_params_, kernel='rbf', random_state=42)\n",
    "\n",
    "# Train & Test\n",
    "clf.fit(X_train, y_train)\n",
    "y_train_pred= clf.predict(X_train)\n",
    "y_test_pred= clf.predict(X_test)\n",
    "\n",
    "# Model Accuracy, how often is the classifier correct?\n",
    "# Detailed report of classification done by model\n",
    "\n",
    "train_accuracy, test_accuracy = accuracy_score(y_train, y_train_pred), accuracy_score(y_test, y_test_pred)\n",
    "print(classification_report(y_test, y_test_pred))\n",
    "print(f'Accuracy for the train dataset {train_accuracy:.1%}')\n",
    "print(f'Accuracy for the test dataset {test_accuracy:.1%}')\n",
    "\n"
   ]
  },
  {
   "cell_type": "code",
   "execution_count": null,
   "metadata": {},
   "outputs": [],
   "source": [
    "# storing the accuracy score\n",
    "svm_train_result = round(train_accuracy*100, 1)\n",
    "svm_test_result = round(test_accuracy*100,1)"
   ]
  },
  {
   "cell_type": "code",
   "execution_count": null,
   "metadata": {},
   "outputs": [],
   "source": []
  }
 ],
 "metadata": {
  "kernelspec": {
   "display_name": "Python 3",
   "language": "python",
   "name": "python3"
  },
  "language_info": {
   "codemirror_mode": {
    "name": "ipython",
    "version": 3
   },
   "file_extension": ".py",
   "mimetype": "text/x-python",
   "name": "python",
   "nbconvert_exporter": "python",
   "pygments_lexer": "ipython3",
   "version": "3.8.5"
  }
 },
 "nbformat": 4,
 "nbformat_minor": 4
}
